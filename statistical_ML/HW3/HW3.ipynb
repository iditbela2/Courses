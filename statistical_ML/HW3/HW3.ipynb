{
 "cells": [
  {
   "cell_type": "markdown",
   "metadata": {},
   "source": [
    "# Q2"
   ]
  },
  {
   "cell_type": "markdown",
   "metadata": {},
   "source": [
    "## a"
   ]
  },
  {
   "cell_type": "markdown",
   "metadata": {},
   "source": [
    "The stability condition says that if the loss function is convex and $\\rho$-Lipschitz, then the loss on the training set is far from the loss on the \"real world\" by $ \\frac{2\\rho^2}{\\lambda |S|}$ at most."
   ]
  },
  {
   "cell_type": "markdown",
   "metadata": {},
   "source": [
    "## b"
   ]
  },
  {
   "cell_type": "markdown",
   "metadata": {},
   "source": [
    "### (a)"
   ]
  },
  {
   "cell_type": "markdown",
   "metadata": {},
   "source": [
    "Using the Cauchy-Schwarz Inequality, we get:"
   ]
  },
  {
   "cell_type": "markdown",
   "metadata": {},
   "source": [
    "$ |x|  \\| w-u \\|  \\geq  |<x,w-u>| =  | <x,w> - <x,u>| = |(1-y<x,w>)-(1-y<x,u>)|  $"
   ]
  },
  {
   "cell_type": "markdown",
   "metadata": {},
   "source": [
    "when marking $a = (1-y<x,w>)$ and $b = (1-y<x,u>)$, the last term above is necessariliy $ \\geq |max\\{0,a\\} - max\\{0,b\\}| $"
   ]
  },
  {
   "cell_type": "markdown",
   "metadata": {},
   "source": [
    "Explanation - assuming |a-b| represents the distance between a and b, in case both a and b are negative values, the max function will turn to |0-0|, hence 0 is necessariliy smaller than |a-b|. In case one of then is negative and the other is positive, then the max function will turn the negative a or b to zero, and again |a-0| or |b-0| is smaller than |a-b|. In case both are positive, we did not change |a-b| when adding the max term.  "
   ]
  },
  {
   "cell_type": "markdown",
   "metadata": {},
   "source": [
    "In conclusion, we showed that  $ |max\\{0,1-y<x,w>\\}-max\\{0,1-y<x,u>\\}| \\leq |x|\\|w-u\\| $"
   ]
  },
  {
   "cell_type": "markdown",
   "metadata": {},
   "source": [
    "### (b)"
   ]
  },
  {
   "cell_type": "markdown",
   "metadata": {},
   "source": [
    "We can conclude that in soft-SVM, the loss on the training set is far from the loss on the \"real world\" by $ \\frac{2 x^2}{\\lambda |S|}$ at most."
   ]
  },
  {
   "cell_type": "markdown",
   "metadata": {},
   "source": [
    "# Q3"
   ]
  },
  {
   "cell_type": "markdown",
   "metadata": {},
   "source": [
    "## a"
   ]
  },
  {
   "cell_type": "code",
   "execution_count": 2,
   "metadata": {},
   "outputs": [],
   "source": [
    "import numpy as np\n",
    "import datetime\n",
    "import matplotlib.pyplot as plt\n",
    "import matplotlib.dates as md\n",
    "import seaborn as sb\n",
    "\n",
    "%matplotlib inline \n",
    "# %matplotlib notebook\n",
    "\n",
    "from IPython.core.interactiveshell import InteractiveShell\n",
    "InteractiveShell.ast_node_interactivity = \"all\""
   ]
  },
  {
   "cell_type": "markdown",
   "metadata": {},
   "source": [
    "The bias represents how well our model fits the data, or how much predicted values differ from true values. \n",
    "The variance represents how well our model can generelize to new data, or how predictions made on the same value vary with different realizations of the model. \n",
    "The higher the complexity of the model, the lower the bias is, and the higher the variance is. \n",
    "In case of high bias, we should increase the complexity of the model by adding more features (if possible) or increase the order of the model (adding more parameters). We can also relax the regularization term. In case of high variance, we could add more data to the training (if possible) or lower the model complexity by using regularization/inhance the current regularization. "
   ]
  },
  {
   "cell_type": "markdown",
   "metadata": {},
   "source": [
    "## b"
   ]
  },
  {
   "cell_type": "code",
   "execution_count": 3,
   "metadata": {},
   "outputs": [
    {
     "data": {
      "text/latex": [
       "$$E[(Y-\\hat{f})^2] = E[(f + \\epsilon -\\hat{f})^2]$$"
      ],
      "text/plain": [
       "<IPython.core.display.Math object>"
      ]
     },
     "execution_count": 3,
     "metadata": {},
     "output_type": "execute_result"
    },
    {
     "data": {
      "text/plain": [
       "'add and substract:'"
      ]
     },
     "metadata": {},
     "output_type": "display_data"
    },
    {
     "data": {
      "text/latex": [
       "$$= E[(f + \\epsilon -\\hat{f} + E(\\hat{f}) - E(\\hat{f}))^2]= E[((f - E(\\hat{f})) + \\epsilon + (E(\\hat{f})-\\hat{f}))^2]$$"
      ],
      "text/plain": [
       "<IPython.core.display.Math object>"
      ]
     },
     "execution_count": 3,
     "metadata": {},
     "output_type": "execute_result"
    },
    {
     "data": {
      "text/plain": [
       "'open a term in the form of (a+b+c)^2:'"
      ]
     },
     "metadata": {},
     "output_type": "display_data"
    },
    {
     "data": {
      "text/latex": [
       "$$= E[(f - E(\\hat{f}))^2 + \\epsilon^2 + (E(\\hat{f})-\\hat{f})^2 +2\\epsilon(f-E(\\hat{f})) + 2\\epsilon(E(\\hat{f})-\\hat{f}) + 2(f-E(\\hat{f}))(E(\\hat{f})-\\hat{f})]= E[(f-E(\\hat{f}))^2] + E[\\epsilon^2] + E[(E(\\hat{f})-\\hat{f})^2] + 2E[\\epsilon(f-E(\\hat{f}))] +2E[\\epsilon(E(\\hat{f})-\\hat{f})] + 2E[(f-E(\\hat{f}))(E(\\hat{f})-\\hat{f})]$$"
      ],
      "text/plain": [
       "<IPython.core.display.Math object>"
      ]
     },
     "execution_count": 3,
     "metadata": {},
     "output_type": "execute_result"
    },
    {
     "data": {
      "text/plain": [
       "'since:'"
      ]
     },
     "metadata": {},
     "output_type": "display_data"
    },
    {
     "data": {
      "text/latex": [
       "$$E[(f-E(\\hat{f}))^2] = (f-E(\\hat{f}))^2$$"
      ],
      "text/plain": [
       "<IPython.core.display.Math object>"
      ]
     },
     "execution_count": 3,
     "metadata": {},
     "output_type": "execute_result"
    },
    {
     "data": {
      "text/latex": [
       "$$E[\\epsilon] = 0$$"
      ],
      "text/plain": [
       "<IPython.core.display.Math object>"
      ]
     },
     "execution_count": 3,
     "metadata": {},
     "output_type": "execute_result"
    },
    {
     "data": {
      "text/latex": [
       "$$E[E(\\hat{f})-\\hat{f}] = 0$$"
      ],
      "text/plain": [
       "<IPython.core.display.Math object>"
      ]
     },
     "execution_count": 3,
     "metadata": {},
     "output_type": "execute_result"
    },
    {
     "data": {
      "text/plain": [
       "'then: '"
      ]
     },
     "metadata": {},
     "output_type": "display_data"
    },
    {
     "data": {
      "text/latex": [
       "$$= (f-E(\\hat{f}))^2 + E[\\epsilon^2] + E[(E(\\hat{f})-\\hat{f})^2]$$"
      ],
      "text/plain": [
       "<IPython.core.display.Math object>"
      ]
     },
     "execution_count": 3,
     "metadata": {},
     "output_type": "execute_result"
    },
    {
     "data": {
      "text/plain": [
       "'and since: '"
      ]
     },
     "metadata": {},
     "output_type": "display_data"
    },
    {
     "data": {
      "text/latex": [
       "$$Var(\\epsilon) = E(\\epsilon^2) - (E(\\epsilon))^2 = \\sigma^2$$"
      ],
      "text/plain": [
       "<IPython.core.display.Math object>"
      ]
     },
     "execution_count": 3,
     "metadata": {},
     "output_type": "execute_result"
    },
    {
     "data": {
      "text/plain": [
       "'then: '"
      ]
     },
     "metadata": {},
     "output_type": "display_data"
    },
    {
     "data": {
      "text/latex": [
       "$$= Bias[\\hat{f}]^2 + \\sigma^2 + Var[\\hat{f}]$$"
      ],
      "text/plain": [
       "<IPython.core.display.Math object>"
      ]
     },
     "execution_count": 3,
     "metadata": {},
     "output_type": "execute_result"
    },
    {
     "data": {
      "text/plain": [
       "'Q.E.D'"
      ]
     },
     "metadata": {},
     "output_type": "display_data"
    }
   ],
   "source": [
    "from IPython.display import Math\n",
    "\n",
    "Math(r'E[(Y-\\hat{f})^2] = E[(f + \\epsilon -\\hat{f})^2]')\n",
    "display('add and substract:')\n",
    "Math('= E[(f + \\epsilon -\\hat{f} + E(\\hat{f}) - E(\\hat{f}))^2]'+ \n",
    "    '= E[((f - E(\\hat{f})) + \\epsilon + (E(\\hat{f})-\\hat{f}))^2]')\n",
    "display('open a term in the form of (a+b+c)^2:')\n",
    "Math('= E[(f - E(\\hat{f}))^2 + \\epsilon^2 + (E(\\hat{f})-\\hat{f})^2 +2\\epsilon(f-E(\\hat{f})) + 2\\epsilon(E(\\hat{f})-\\hat{f}) + 2(f-E(\\hat{f}))(E(\\hat{f})-\\hat{f})]'+\n",
    "    '= E[(f-E(\\hat{f}))^2] + E[\\epsilon^2] + E[(E(\\hat{f})-\\hat{f})^2] + 2E[\\epsilon(f-E(\\hat{f}))] +2E[\\epsilon(E(\\hat{f})-\\hat{f})] + 2E[(f-E(\\hat{f}))(E(\\hat{f})-\\hat{f})]') \n",
    "display('since:' )\n",
    "Math(r'E[(f-E(\\hat{f}))^2] = (f-E(\\hat{f}))^2')  \n",
    "Math(r'E[\\epsilon] = 0') \n",
    "Math(r'E[E(\\hat{f})-\\hat{f}] = 0')\n",
    "display('then: ')\n",
    "Math('= (f-E(\\hat{f}))^2 + E[\\epsilon^2] + E[(E(\\hat{f})-\\hat{f})^2]')\n",
    "display('and since: ')\n",
    "Math('Var(\\epsilon) = E(\\epsilon^2) - (E(\\epsilon))^2 = \\sigma^2')\n",
    "display('then: ')\n",
    "Math('= Bias[\\hat{f}]^2 + \\sigma^2 + Var[\\hat{f}]')\n",
    "display('Q.E.D')\n",
    "\n"
   ]
  },
  {
   "cell_type": "markdown",
   "metadata": {},
   "source": [
    "# Q4"
   ]
  },
  {
   "cell_type": "markdown",
   "metadata": {},
   "source": [
    "## a"
   ]
  },
  {
   "cell_type": "code",
   "execution_count": null,
   "metadata": {},
   "outputs": [],
   "source": [
    "# The following is written in main.py file as well \n",
    "\n",
    "import numpy as np\n",
    "import pandas as pd\n",
    "from utils import load_mnist\n",
    "from sklearn.model_selection import train_test_split, KFold, cross_val_score, cross_validate\n",
    "from sklearn.svm import SVC\n",
    "from sklearn.metrics import accuracy_score\n",
    "\n",
    "# Using python's functions\n",
    "def cv(X,y,model,folds):    \n",
    "    scores = cross_validate(model, X, y, cv=folds, scoring='accuracy', return_train_score=True)\n",
    "    return np.mean(1 - scores['train_score']), np.mean(1 - scores['test_score'])\n",
    "\n",
    "# Using a function we wrote \n",
    "# def cv(X,y,model,folds):\n",
    "#     kf = KFold(n_splits = folds, random_state=1000)\n",
    "#     mat_train = []\n",
    "#     mat_val = []\n",
    "#     for train_index, val_index in kf.split(X):\n",
    "#         X_train_cv, X_val = X.iloc[train_index], X.iloc[val_index]\n",
    "#         y_train_cv, y_val = y.iloc[train_index], y.iloc[val_index]\n",
    "#         model.fit(X_train_cv, y_train_cv)\n",
    "#         y_pred_train = model.predict(X_train_cv)\n",
    "#         y_pred_val = model.predict(X_val)\n",
    "#         train_error = 1-accuracy_score(y_train_cv, y_pred_train)\n",
    "#         val_error = 1-accuracy_score(y_val, y_pred_val)\n",
    "#         mat_train.append(train_error)\n",
    "#         mat_val.append(val_error)\n",
    "    \n",
    "#     return np.mean(mat_train), np.mean(mat_val)"
   ]
  },
  {
   "cell_type": "markdown",
   "metadata": {},
   "source": [
    "## b"
   ]
  },
  {
   "cell_type": "markdown",
   "metadata": {},
   "source": [
    "**NOTE:** polynomial degree of 10 was almost imposible to fit. after 5 hours we just gave up and answered the question up to polynomial degree of 9.  "
   ]
  },
  {
   "cell_type": "code",
   "execution_count": 3,
   "metadata": {
    "scrolled": true
   },
   "outputs": [
    {
     "name": "stdout",
     "output_type": "stream",
     "text": [
      "lin\n"
     ]
    },
    {
     "data": {
      "text/plain": [
       "'poly2'"
      ]
     },
     "metadata": {},
     "output_type": "display_data"
    },
    {
     "data": {
      "text/plain": [
       "'poly3'"
      ]
     },
     "metadata": {},
     "output_type": "display_data"
    },
    {
     "data": {
      "text/plain": [
       "'poly4'"
      ]
     },
     "metadata": {},
     "output_type": "display_data"
    },
    {
     "data": {
      "text/plain": [
       "'poly5'"
      ]
     },
     "metadata": {},
     "output_type": "display_data"
    },
    {
     "data": {
      "text/plain": [
       "'poly6'"
      ]
     },
     "metadata": {},
     "output_type": "display_data"
    },
    {
     "data": {
      "text/plain": [
       "'poly7'"
      ]
     },
     "metadata": {},
     "output_type": "display_data"
    },
    {
     "data": {
      "text/plain": [
       "'poly8'"
      ]
     },
     "metadata": {},
     "output_type": "display_data"
    },
    {
     "data": {
      "text/plain": [
       "'poly9'"
      ]
     },
     "metadata": {},
     "output_type": "display_data"
    },
    {
     "data": {
      "text/plain": [
       "'rbf0.001'"
      ]
     },
     "metadata": {},
     "output_type": "display_data"
    },
    {
     "data": {
      "text/plain": [
       "'rbf0.01'"
      ]
     },
     "metadata": {},
     "output_type": "display_data"
    },
    {
     "data": {
      "text/plain": [
       "'rbf0.1'"
      ]
     },
     "metadata": {},
     "output_type": "display_data"
    },
    {
     "data": {
      "text/plain": [
       "'rbf1'"
      ]
     },
     "metadata": {},
     "output_type": "display_data"
    },
    {
     "data": {
      "text/plain": [
       "'rbf10'"
      ]
     },
     "metadata": {},
     "output_type": "display_data"
    }
   ],
   "source": [
    "\n",
    "from sklearn.model_selection import train_test_split\n",
    "from sklearn.svm import SVC\n",
    "from utils import load_mnist\n",
    "from sklearn.metrics import accuracy_score\n",
    "from main import cv\n",
    "\n",
    "X, y = load_mnist()\n",
    "X_train, X_test, y_train, y_test = train_test_split(X, y, test_size=0.2, random_state=1000)\n",
    "\n",
    "folds = 5 # change to 5\n",
    "\n",
    "kernel_types = ['linear', 'poly', 'rbf']\n",
    "degree = range(2,10)\n",
    "gamma = [0.001,0.01,0.1,1,10]\n",
    "\n",
    "cv_results = dict()\n",
    "\n",
    "#linear\n",
    "clf = SVC(kernel = 'linear')\n",
    "a,b = cv(X_train,y_train,clf,folds)\n",
    "k_name = 'svm_linear'\n",
    "clf.fit(X_train, y_train)       \n",
    "y_pred = clf.predict(X_test)\n",
    "c = 1-accuracy_score(y_test, y_pred)    \n",
    "cv_results[k_name] = [a,b,c]\n",
    "\n",
    "display('lin')\n",
    "\n",
    "#poly\n",
    "for d in degree:\n",
    "    clf = SVC(kernel = 'poly', degree = d)\n",
    "    a,b = cv(X_train,y_train,clf,folds)\n",
    "    k_name = 'svm_poly_d' + str(d)\n",
    "    clf.fit(X_train, y_train)       \n",
    "    y_pred = clf.predict(X_test)\n",
    "    c = 1-accuracy_score(y_test, y_pred)   \n",
    "    cv_results[k_name] = [a,b,c]\n",
    "    \n",
    "    display('poly'+str(d))\n",
    "\n",
    "#rbf\n",
    "for g in gamma:\n",
    "    clf = SVC(kernel = 'rbf', gamma = g)\n",
    "    a,b = cv(X_train,y_train,clf,folds)\n",
    "    k_name = 'svm_rbf_g' + str(g)\n",
    "    clf.fit(X_train, y_train)       \n",
    "    y_pred = clf.predict(X_test)\n",
    "    c = 1-accuracy_score(y_test, y_pred)   \n",
    "    cv_results[k_name] = [a,b,c]\n",
    "    display('rbf'+str(g))\n",
    "            "
   ]
  },
  {
   "cell_type": "code",
   "execution_count": 4,
   "metadata": {},
   "outputs": [
    {
     "data": {
      "text/plain": [
       "{'svm_linear': [0.0, 0.09047603883465585, 0.09312500000000001],\n",
       " 'svm_poly_d2': [0.0, 0.04718205100969253, 0.04749999999999999],\n",
       " 'svm_poly_d3': [0.0, 0.05640755225221783, 0.05249999999999999],\n",
       " 'svm_poly_d4': [0.0, 0.07421998565061885, 0.07125000000000004],\n",
       " 'svm_poly_d5': [0.0, 0.09312875000278487, 0.09062499999999996],\n",
       " 'svm_poly_d6': [0.0, 0.1185994203368953, 0.11312500000000003],\n",
       " 'svm_poly_d7': [0.0, 0.14828421437893394, 0.130625],\n",
       " 'svm_poly_d8': [0.0, 0.17328368888884202, 0.15625],\n",
       " 'svm_poly_d9': [0.000117210404582746,\n",
       "  0.2025099882295482,\n",
       "  0.17812499999999998],\n",
       " 'svm_rbf_g0.001': [0.0, 0.8881249831170503, 0.8875],\n",
       " 'svm_rbf_g0.01': [0.0, 0.8881249831170503, 0.8875],\n",
       " 'svm_rbf_g0.1': [0.0, 0.8881249831170503, 0.8875],\n",
       " 'svm_rbf_g1': [0.0, 0.8881249831170503, 0.8875],\n",
       " 'svm_rbf_g10': [0.0, 0.8881249831170503, 0.8875]}"
      ]
     },
     "execution_count": 4,
     "metadata": {},
     "output_type": "execute_result"
    }
   ],
   "source": [
    "cv_results #train_cv_error, test_cv_error, test_error"
   ]
  },
  {
   "cell_type": "code",
   "execution_count": 5,
   "metadata": {},
   "outputs": [],
   "source": [
    "import pandas as pd\n",
    "\n",
    "df = pd.DataFrame.from_dict(cv_results, orient='index',\n",
    "                            columns = ['train_cv_error', 'test_cv_error', 'test_error'])"
   ]
  },
  {
   "cell_type": "code",
   "execution_count": 6,
   "metadata": {},
   "outputs": [
    {
     "data": {
      "text/html": [
       "<div>\n",
       "<style scoped>\n",
       "    .dataframe tbody tr th:only-of-type {\n",
       "        vertical-align: middle;\n",
       "    }\n",
       "\n",
       "    .dataframe tbody tr th {\n",
       "        vertical-align: top;\n",
       "    }\n",
       "\n",
       "    .dataframe thead th {\n",
       "        text-align: right;\n",
       "    }\n",
       "</style>\n",
       "<table border=\"1\" class=\"dataframe\">\n",
       "  <thead>\n",
       "    <tr style=\"text-align: right;\">\n",
       "      <th></th>\n",
       "      <th>train_cv_error</th>\n",
       "      <th>test_cv_error</th>\n",
       "      <th>test_error</th>\n",
       "    </tr>\n",
       "  </thead>\n",
       "  <tbody>\n",
       "    <tr>\n",
       "      <th>svm_linear</th>\n",
       "      <td>0.000000</td>\n",
       "      <td>0.090476</td>\n",
       "      <td>0.093125</td>\n",
       "    </tr>\n",
       "    <tr>\n",
       "      <th>svm_poly_d2</th>\n",
       "      <td>0.000000</td>\n",
       "      <td>0.047182</td>\n",
       "      <td>0.047500</td>\n",
       "    </tr>\n",
       "    <tr>\n",
       "      <th>svm_poly_d3</th>\n",
       "      <td>0.000000</td>\n",
       "      <td>0.056408</td>\n",
       "      <td>0.052500</td>\n",
       "    </tr>\n",
       "    <tr>\n",
       "      <th>svm_poly_d4</th>\n",
       "      <td>0.000000</td>\n",
       "      <td>0.074220</td>\n",
       "      <td>0.071250</td>\n",
       "    </tr>\n",
       "    <tr>\n",
       "      <th>svm_poly_d5</th>\n",
       "      <td>0.000000</td>\n",
       "      <td>0.093129</td>\n",
       "      <td>0.090625</td>\n",
       "    </tr>\n",
       "    <tr>\n",
       "      <th>svm_poly_d6</th>\n",
       "      <td>0.000000</td>\n",
       "      <td>0.118599</td>\n",
       "      <td>0.113125</td>\n",
       "    </tr>\n",
       "    <tr>\n",
       "      <th>svm_poly_d7</th>\n",
       "      <td>0.000000</td>\n",
       "      <td>0.148284</td>\n",
       "      <td>0.130625</td>\n",
       "    </tr>\n",
       "    <tr>\n",
       "      <th>svm_poly_d8</th>\n",
       "      <td>0.000000</td>\n",
       "      <td>0.173284</td>\n",
       "      <td>0.156250</td>\n",
       "    </tr>\n",
       "    <tr>\n",
       "      <th>svm_poly_d9</th>\n",
       "      <td>0.000117</td>\n",
       "      <td>0.202510</td>\n",
       "      <td>0.178125</td>\n",
       "    </tr>\n",
       "    <tr>\n",
       "      <th>svm_rbf_g0.001</th>\n",
       "      <td>0.000000</td>\n",
       "      <td>0.888125</td>\n",
       "      <td>0.887500</td>\n",
       "    </tr>\n",
       "    <tr>\n",
       "      <th>svm_rbf_g0.01</th>\n",
       "      <td>0.000000</td>\n",
       "      <td>0.888125</td>\n",
       "      <td>0.887500</td>\n",
       "    </tr>\n",
       "    <tr>\n",
       "      <th>svm_rbf_g0.1</th>\n",
       "      <td>0.000000</td>\n",
       "      <td>0.888125</td>\n",
       "      <td>0.887500</td>\n",
       "    </tr>\n",
       "    <tr>\n",
       "      <th>svm_rbf_g1</th>\n",
       "      <td>0.000000</td>\n",
       "      <td>0.888125</td>\n",
       "      <td>0.887500</td>\n",
       "    </tr>\n",
       "    <tr>\n",
       "      <th>svm_rbf_g10</th>\n",
       "      <td>0.000000</td>\n",
       "      <td>0.888125</td>\n",
       "      <td>0.887500</td>\n",
       "    </tr>\n",
       "  </tbody>\n",
       "</table>\n",
       "</div>"
      ],
      "text/plain": [
       "                train_cv_error  test_cv_error  test_error\n",
       "svm_linear            0.000000       0.090476    0.093125\n",
       "svm_poly_d2           0.000000       0.047182    0.047500\n",
       "svm_poly_d3           0.000000       0.056408    0.052500\n",
       "svm_poly_d4           0.000000       0.074220    0.071250\n",
       "svm_poly_d5           0.000000       0.093129    0.090625\n",
       "svm_poly_d6           0.000000       0.118599    0.113125\n",
       "svm_poly_d7           0.000000       0.148284    0.130625\n",
       "svm_poly_d8           0.000000       0.173284    0.156250\n",
       "svm_poly_d9           0.000117       0.202510    0.178125\n",
       "svm_rbf_g0.001        0.000000       0.888125    0.887500\n",
       "svm_rbf_g0.01         0.000000       0.888125    0.887500\n",
       "svm_rbf_g0.1          0.000000       0.888125    0.887500\n",
       "svm_rbf_g1            0.000000       0.888125    0.887500\n",
       "svm_rbf_g10           0.000000       0.888125    0.887500"
      ]
     },
     "execution_count": 6,
     "metadata": {},
     "output_type": "execute_result"
    }
   ],
   "source": [
    "df"
   ]
  },
  {
   "cell_type": "code",
   "execution_count": 16,
   "metadata": {},
   "outputs": [
    {
     "data": {
      "text/plain": [
       "0.04718205100969253"
      ]
     },
     "execution_count": 16,
     "metadata": {},
     "output_type": "execute_result"
    },
    {
     "data": {
      "text/plain": [
       "0.04749999999999999"
      ]
     },
     "execution_count": 16,
     "metadata": {},
     "output_type": "execute_result"
    }
   ],
   "source": [
    "df['test_cv_error'].min()\n",
    "df['test_error'].min()"
   ]
  },
  {
   "cell_type": "markdown",
   "metadata": {},
   "source": [
    "Looks like the best models are an SVM with a polynomial kernel of 2nd degree, if looking at both the test_cv_error and the test error on the test sample. Even polynomial kernel with 3rd and 4th degree seem to perform better than the linear kernel. Anyways, a radial kernel is not suitable in this case. "
   ]
  },
  {
   "cell_type": "code",
   "execution_count": 17,
   "metadata": {},
   "outputs": [
    {
     "data": {
      "image/png": "[encoded data removed]",
      "text/plain": [
       "<matplotlib.figure.Figure at 0x11a58a208>"
      ]
     },
     "metadata": {
      "image/png": {
       "height": 344,
       "width": 937
      }
     },
     "output_type": "display_data"
    }
   ],
   "source": [
    "# plot the results \n",
    "%config InlineBackend.figure_format = 'retina'\n",
    "# plt.style.use('bmh')\n",
    "fig, ax = plt.subplots(nrows=1, ncols=2)\n",
    "fig.subplots_adjust(hspace=0.4, wspace=0.4)\n",
    "\n",
    "temp = df.iloc[1:9]\n",
    "ax[0].plot(range(2,10),temp,'-.')\n",
    "ax[0].set_xlabel('Degree of polynomial')\n",
    "ax[0].set_ylabel('Error [1-accuracy]')\n",
    "ax[0].set_title('Polynomial kernel')\n",
    "\n",
    "temp = df.iloc[9:14]\n",
    "gamma = [0.001,0.01,0.1,1,10]\n",
    "ax[1].plot(gamma,temp,'-.')\n",
    "ax[1].legend(['train_cv_error','test_cv_error','test_error'],loc='upper right',bbox_to_anchor=(1.7, 1))\n",
    "ax[1].set_xlabel('Gamma parameter')\n",
    "ax[1].set_ylabel('Error [1-acciracy]')\n",
    "ax[1].set_title('Radial kernel')\n",
    "\n",
    "# set parameters\n",
    "plt.rcParams['figure.figsize'] = (12, 5)\n",
    "plt.rcParams['font.size'] = 14\n",
    "plt.show();"
   ]
  },
  {
   "cell_type": "code",
   "execution_count": null,
   "metadata": {},
   "outputs": [],
   "source": []
  }
 ],
 "metadata": {
  "kernelspec": {
   "display_name": "Python 3",
   "language": "python",
   "name": "python3"
  },
  "language_info": {
   "codemirror_mode": {
    "name": "ipython",
    "version": 3
   },
   "file_extension": ".py",
   "mimetype": "text/x-python",
   "name": "python",
   "nbconvert_exporter": "python",
   "pygments_lexer": "ipython3",
   "version": "3.6.4"
  }
 },
 "nbformat": 4,
 "nbformat_minor": 2
}
