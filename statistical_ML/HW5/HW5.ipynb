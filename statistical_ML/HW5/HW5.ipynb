{
 "cells": [
  {
   "cell_type": "markdown",
   "metadata": {},
   "source": [
    "# Q1 - Decision tree - Entropy Vs. Gini impurity"
   ]
  },
  {
   "cell_type": "code",
   "execution_count": 1,
   "metadata": {},
   "outputs": [],
   "source": [
    "import pandas as pd\n",
    "import numpy as np\n",
    "import matplotlib.pyplot as plt\n",
    "\n",
    "\n",
    "from IPython.core.interactiveshell import InteractiveShell\n",
    "InteractiveShell.ast_node_interactivity = \"all\""
   ]
  },
  {
   "cell_type": "code",
   "execution_count": 681,
   "metadata": {},
   "outputs": [],
   "source": [
    "# health data \n",
    "\n",
    "d = [[1,'Yes','Male',160,'High','No'],\n",
    "     [2,'Yes','Male',260,'Normal','Yes'],\n",
    "     [3,'No','Female',245,'Normal','No'],\n",
    "     [4,'No','Male',170,'Normal','No'],\n",
    "     [5,'Yes','Female',230,'High','Yes'],\n",
    "     [6,'No','Male',215,'Normal','No'],\n",
    "     [7,'Yes','Female',240,'Normal','No'],\n",
    "     [8,'No','Male',235,'High','Yes']]\n",
    "\n",
    "df = pd.DataFrame(data = np.array(d),\n",
    "                    columns = ['ID','Family heart attacks','Gender','cholesterol','Blood pressure','Heart attack'])\n"
   ]
  },
  {
   "cell_type": "code",
   "execution_count": 682,
   "metadata": {},
   "outputs": [
    {
     "data": {
      "text/html": [
       "<div>\n",
       "<style scoped>\n",
       "    .dataframe tbody tr th:only-of-type {\n",
       "        vertical-align: middle;\n",
       "    }\n",
       "\n",
       "    .dataframe tbody tr th {\n",
       "        vertical-align: top;\n",
       "    }\n",
       "\n",
       "    .dataframe thead th {\n",
       "        text-align: right;\n",
       "    }\n",
       "</style>\n",
       "<table border=\"1\" class=\"dataframe\">\n",
       "  <thead>\n",
       "    <tr style=\"text-align: right;\">\n",
       "      <th></th>\n",
       "      <th>ID</th>\n",
       "      <th>Family heart attacks</th>\n",
       "      <th>Gender</th>\n",
       "      <th>cholesterol</th>\n",
       "      <th>Blood pressure</th>\n",
       "      <th>Heart attack</th>\n",
       "    </tr>\n",
       "  </thead>\n",
       "  <tbody>\n",
       "    <tr>\n",
       "      <th>0</th>\n",
       "      <td>1</td>\n",
       "      <td>Yes</td>\n",
       "      <td>Male</td>\n",
       "      <td>160</td>\n",
       "      <td>High</td>\n",
       "      <td>No</td>\n",
       "    </tr>\n",
       "    <tr>\n",
       "      <th>1</th>\n",
       "      <td>2</td>\n",
       "      <td>Yes</td>\n",
       "      <td>Male</td>\n",
       "      <td>260</td>\n",
       "      <td>Normal</td>\n",
       "      <td>Yes</td>\n",
       "    </tr>\n",
       "    <tr>\n",
       "      <th>2</th>\n",
       "      <td>3</td>\n",
       "      <td>No</td>\n",
       "      <td>Female</td>\n",
       "      <td>245</td>\n",
       "      <td>Normal</td>\n",
       "      <td>No</td>\n",
       "    </tr>\n",
       "    <tr>\n",
       "      <th>3</th>\n",
       "      <td>4</td>\n",
       "      <td>No</td>\n",
       "      <td>Male</td>\n",
       "      <td>170</td>\n",
       "      <td>Normal</td>\n",
       "      <td>No</td>\n",
       "    </tr>\n",
       "    <tr>\n",
       "      <th>4</th>\n",
       "      <td>5</td>\n",
       "      <td>Yes</td>\n",
       "      <td>Female</td>\n",
       "      <td>230</td>\n",
       "      <td>High</td>\n",
       "      <td>Yes</td>\n",
       "    </tr>\n",
       "    <tr>\n",
       "      <th>5</th>\n",
       "      <td>6</td>\n",
       "      <td>No</td>\n",
       "      <td>Male</td>\n",
       "      <td>215</td>\n",
       "      <td>Normal</td>\n",
       "      <td>No</td>\n",
       "    </tr>\n",
       "    <tr>\n",
       "      <th>6</th>\n",
       "      <td>7</td>\n",
       "      <td>Yes</td>\n",
       "      <td>Female</td>\n",
       "      <td>240</td>\n",
       "      <td>Normal</td>\n",
       "      <td>No</td>\n",
       "    </tr>\n",
       "    <tr>\n",
       "      <th>7</th>\n",
       "      <td>8</td>\n",
       "      <td>No</td>\n",
       "      <td>Male</td>\n",
       "      <td>235</td>\n",
       "      <td>High</td>\n",
       "      <td>Yes</td>\n",
       "    </tr>\n",
       "  </tbody>\n",
       "</table>\n",
       "</div>"
      ],
      "text/plain": [
       "  ID Family heart attacks  Gender cholesterol Blood pressure Heart attack\n",
       "0  1                  Yes    Male         160           High           No\n",
       "1  2                  Yes    Male         260         Normal          Yes\n",
       "2  3                   No  Female         245         Normal           No\n",
       "3  4                   No    Male         170         Normal           No\n",
       "4  5                  Yes  Female         230           High          Yes\n",
       "5  6                   No    Male         215         Normal           No\n",
       "6  7                  Yes  Female         240         Normal           No\n",
       "7  8                   No    Male         235           High          Yes"
      ]
     },
     "execution_count": 682,
     "metadata": {},
     "output_type": "execute_result"
    }
   ],
   "source": [
    "df"
   ]
  },
  {
   "cell_type": "markdown",
   "metadata": {},
   "source": [
    "## a"
   ]
  },
  {
   "cell_type": "code",
   "execution_count": 683,
   "metadata": {},
   "outputs": [],
   "source": [
    "def entropy_per_attribute(df,attribute,lable,target):\n",
    "    if df[df[attribute] == lable].groupby(target).count().index[0] == 'No':\n",
    "        count = df[df[attribute] == lable].groupby(target).count().ID['No']\n",
    "    else:\n",
    "        count = 0\n",
    "    total = df[df[attribute] == lable].groupby(target).count().ID.sum()\n",
    "    entropy = -(count/total)*np.log2(count/total)-((total-count)/total)*np.log2((total-count)/total)\n",
    "    return total,entropy\n",
    "    "
   ]
  },
  {
   "cell_type": "code",
   "execution_count": 685,
   "metadata": {},
   "outputs": [
    {
     "data": {
      "text/plain": [
       "No     5\n",
       "Yes    3\n",
       "Name: Heart attack, dtype: int64"
      ]
     },
     "execution_count": 685,
     "metadata": {},
     "output_type": "execute_result"
    }
   ],
   "source": [
    "# General - Entropy of heart attack\n",
    "df['Heart attack'].value_counts()"
   ]
  },
  {
   "cell_type": "code",
   "execution_count": 686,
   "metadata": {},
   "outputs": [
    {
     "data": {
      "text/plain": [
       "0.954434002924965"
      ]
     },
     "execution_count": 686,
     "metadata": {},
     "output_type": "execute_result"
    }
   ],
   "source": [
    "# Entropy of heart attack\n",
    "Entropy_HA = -(5/8)*np.log2(5/8) -(3/8)*np.log2(3/8)\n",
    "Entropy_HA"
   ]
  },
  {
   "cell_type": "code",
   "execution_count": 687,
   "metadata": {},
   "outputs": [],
   "source": [
    "# for 3 binary columns:\n",
    "cols = ['Family heart attacks','Gender','Blood pressure']"
   ]
  },
  {
   "cell_type": "code",
   "execution_count": 688,
   "metadata": {},
   "outputs": [],
   "source": [
    "results = []\n",
    "for i,c in enumerate(cols):\n",
    "    lables = df[cols[i]].unique()\n",
    "    for l in lables:\n",
    "        results.append([c,l,entropy_per_attribute(df,c,l,'Heart attack')])"
   ]
  },
  {
   "cell_type": "code",
   "execution_count": 689,
   "metadata": {},
   "outputs": [
    {
     "data": {
      "text/plain": [
       "[['Family heart attacks', 'Yes', (4, 1.0)],\n",
       " ['Family heart attacks', 'No', (4, 0.8112781244591328)],\n",
       " ['Gender', 'Male', (5, 0.9709505944546686)],\n",
       " ['Gender', 'Female', (3, 0.9182958340544896)],\n",
       " ['Blood pressure', 'High', (3, 0.9182958340544896)],\n",
       " ['Blood pressure', 'Normal', (5, 0.7219280948873623)]]"
      ]
     },
     "execution_count": 689,
     "metadata": {},
     "output_type": "execute_result"
    }
   ],
   "source": [
    "results"
   ]
  },
  {
   "cell_type": "code",
   "execution_count": 690,
   "metadata": {},
   "outputs": [
    {
     "data": {
      "text/plain": [
       "'Family heart attacks:'"
      ]
     },
     "metadata": {},
     "output_type": "display_data"
    },
    {
     "data": {
      "text/plain": [
       "0.048794940695398636"
      ]
     },
     "execution_count": 690,
     "metadata": {},
     "output_type": "execute_result"
    },
    {
     "data": {
      "text/plain": [
       "'Gender:'"
      ]
     },
     "metadata": {},
     "output_type": "display_data"
    },
    {
     "data": {
      "text/plain": [
       "0.003228943620363578"
      ]
     },
     "execution_count": 690,
     "metadata": {},
     "output_type": "execute_result"
    },
    {
     "data": {
      "text/plain": [
       "'Blood pressure:'"
      ]
     },
     "metadata": {},
     "output_type": "display_data"
    },
    {
     "data": {
      "text/plain": [
       "0.15886800584993"
      ]
     },
     "execution_count": 690,
     "metadata": {},
     "output_type": "execute_result"
    }
   ],
   "source": [
    "# Gains\n",
    "display('Family heart attacks:')\n",
    "Entropy_HA - (results[0][2][0]/8)*results[0][2][1] - (results[1][2][0]/8)*results[1][2][1] #'Family heart attacks'\n",
    "display('Gender:')\n",
    "Entropy_HA - (results[2][2][0]/8)*results[2][2][1] - (results[3][2][0]/8)*results[3][2][1] #'Gender'\n",
    "display('Blood pressure:')\n",
    "Entropy_HA - (results[4][2][0]/8)*results[4][2][1] - (results[5][2][0]/8)*results[5][2][1] #'Blood pressure'"
   ]
  },
  {
   "cell_type": "code",
   "execution_count": 691,
   "metadata": {},
   "outputs": [],
   "source": [
    "# for the cholesterol column:\n",
    "def entropy_per_continues_attribute_bigger(df,attribute,threshold,target):\n",
    "    if np.shape(df[pd.to_numeric(df[attribute]) > threshold].groupby(target).count())[0] == 0 or np.shape(df[pd.to_numeric(df[attribute]) > threshold].groupby(target).count())[1]==0:\n",
    "        count = 0\n",
    "    elif df[pd.to_numeric(df[attribute]) > threshold].groupby(target).count().index[0] == 'No':\n",
    "        count = df[pd.to_numeric(df[attribute]) > threshold].groupby(target).count().ID['No']\n",
    "    else:\n",
    "        count = 0\n",
    "    total = df[pd.to_numeric(df[attribute]) > threshold].groupby(target).count().ID.sum()\n",
    "    entropy = -(count/total)*np.log2(count/total)-((total-count)/total)*np.log2((total-count)/total)\n",
    "    if np.isnan(entropy):\n",
    "        entropy=0\n",
    "    return total,entropy\n",
    "\n",
    "def entropy_per_continues_attribute_smaller(df,attribute,threshold,target):\n",
    "    if np.shape(df[pd.to_numeric(df[attribute]) <= threshold].groupby(target).count())[0] == 0 or np.shape(df[pd.to_numeric(df[attribute]) <= threshold].groupby(target).count())[1]==0:\n",
    "        count = 0\n",
    "    elif df[pd.to_numeric(df[attribute]) <= threshold].groupby(target).count().index[0] == 'No':\n",
    "        count = df[pd.to_numeric(df[attribute]) <= threshold].groupby(target).count().ID['No']\n",
    "    else:\n",
    "        count = 0\n",
    "    total = df[pd.to_numeric(df[attribute]) <= threshold].groupby(target).count().ID.sum()\n",
    "    entropy = -(count/total)*np.log2(count/total)-((total-count)/total)*np.log2((total-count)/total)\n",
    "    if np.isnan(entropy):\n",
    "        entropy=0\n",
    "    return total,entropy"
   ]
  },
  {
   "cell_type": "code",
   "execution_count": 692,
   "metadata": {},
   "outputs": [],
   "source": [
    "threshold_values = [160,170,260,230,215,240,235,245]"
   ]
  },
  {
   "cell_type": "code",
   "execution_count": 693,
   "metadata": {},
   "outputs": [
    {
     "name": "stderr",
     "output_type": "stream",
     "text": [
      "/Library/Frameworks/Python.framework/Versions/3.6/lib/python3.6/site-packages/ipykernel_launcher.py:23: RuntimeWarning: divide by zero encountered in log2\n",
      "/Library/Frameworks/Python.framework/Versions/3.6/lib/python3.6/site-packages/ipykernel_launcher.py:23: RuntimeWarning: invalid value encountered in double_scalars\n",
      "/Library/Frameworks/Python.framework/Versions/3.6/lib/python3.6/site-packages/ipykernel_launcher.py:10: RuntimeWarning: invalid value encountered in long_scalars\n",
      "  # Remove the CWD from sys.path while we load stuff.\n",
      "/Library/Frameworks/Python.framework/Versions/3.6/lib/python3.6/site-packages/ipykernel_launcher.py:10: RuntimeWarning: divide by zero encountered in log2\n",
      "  # Remove the CWD from sys.path while we load stuff.\n",
      "/Library/Frameworks/Python.framework/Versions/3.6/lib/python3.6/site-packages/ipykernel_launcher.py:10: RuntimeWarning: invalid value encountered in double_scalars\n",
      "  # Remove the CWD from sys.path while we load stuff.\n"
     ]
    }
   ],
   "source": [
    "results_cholesterol = []\n",
    "for thr in threshold_values:\n",
    "    results_cholesterol.append(['bigger',thr,entropy_per_continues_attribute_bigger(df,'cholesterol',thr,'Heart attack')])\n",
    "    results_cholesterol.append(['smaller',thr,entropy_per_continues_attribute_smaller(df,'cholesterol',thr,'Heart attack')])\n",
    "    "
   ]
  },
  {
   "cell_type": "code",
   "execution_count": 694,
   "metadata": {},
   "outputs": [
    {
     "data": {
      "text/plain": [
       "[['bigger', 160, (7, 0.9852281360342515)],\n",
       " ['smaller', 160, (1, 0)],\n",
       " ['bigger', 170, (6, 1.0)],\n",
       " ['smaller', 170, (2, 0)],\n",
       " ['bigger', 260, (0, 0)],\n",
       " ['smaller', 260, (8, 0.954434002924965)],\n",
       " ['bigger', 230, (4, 1.0)],\n",
       " ['smaller', 230, (4, 0.8112781244591328)],\n",
       " ['bigger', 215, (5, 0.9709505944546686)],\n",
       " ['smaller', 215, (3, 0)],\n",
       " ['bigger', 240, (2, 1.0)],\n",
       " ['smaller', 240, (6, 0.9182958340544896)],\n",
       " ['bigger', 235, (3, 0.9182958340544896)],\n",
       " ['smaller', 235, (5, 0.9709505944546686)],\n",
       " ['bigger', 245, (1, 0)],\n",
       " ['smaller', 245, (7, 0.863120568566631)]]"
      ]
     },
     "execution_count": 694,
     "metadata": {},
     "output_type": "execute_result"
    }
   ],
   "source": [
    "results_cholesterol"
   ]
  },
  {
   "cell_type": "code",
   "execution_count": 696,
   "metadata": {},
   "outputs": [
    {
     "data": {
      "text/plain": [
       "'160:'"
      ]
     },
     "execution_count": 696,
     "metadata": {},
     "output_type": "execute_result"
    },
    {
     "data": {
      "text/plain": [
       "0.09235938389499498"
      ]
     },
     "execution_count": 696,
     "metadata": {},
     "output_type": "execute_result"
    },
    {
     "data": {
      "text/plain": [
       "'170:'"
      ]
     },
     "execution_count": 696,
     "metadata": {},
     "output_type": "execute_result"
    },
    {
     "data": {
      "text/plain": [
       "0.20443400292496505"
      ]
     },
     "execution_count": 696,
     "metadata": {},
     "output_type": "execute_result"
    },
    {
     "data": {
      "text/plain": [
       "'260:'"
      ]
     },
     "execution_count": 696,
     "metadata": {},
     "output_type": "execute_result"
    },
    {
     "data": {
      "text/plain": [
       "0.0"
      ]
     },
     "execution_count": 696,
     "metadata": {},
     "output_type": "execute_result"
    },
    {
     "data": {
      "text/plain": [
       "'230:'"
      ]
     },
     "execution_count": 696,
     "metadata": {},
     "output_type": "execute_result"
    },
    {
     "data": {
      "text/plain": [
       "0.048794940695398636"
      ]
     },
     "execution_count": 696,
     "metadata": {},
     "output_type": "execute_result"
    },
    {
     "data": {
      "text/plain": [
       "'215:'"
      ]
     },
     "execution_count": 696,
     "metadata": {},
     "output_type": "execute_result"
    },
    {
     "data": {
      "text/plain": [
       "0.34758988139079716"
      ]
     },
     "execution_count": 696,
     "metadata": {},
     "output_type": "execute_result"
    },
    {
     "data": {
      "text/plain": [
       "'240:'"
      ]
     },
     "execution_count": 696,
     "metadata": {},
     "output_type": "execute_result"
    },
    {
     "data": {
      "text/plain": [
       "0.015712127384097885"
      ]
     },
     "execution_count": 696,
     "metadata": {},
     "output_type": "execute_result"
    },
    {
     "data": {
      "text/plain": [
       "'235:'"
      ]
     },
     "execution_count": 696,
     "metadata": {},
     "output_type": "execute_result"
    },
    {
     "data": {
      "text/plain": [
       "0.0032289436203635224"
      ]
     },
     "execution_count": 696,
     "metadata": {},
     "output_type": "execute_result"
    },
    {
     "data": {
      "text/plain": [
       "'245:'"
      ]
     },
     "execution_count": 696,
     "metadata": {},
     "output_type": "execute_result"
    },
    {
     "data": {
      "text/plain": [
       "0.19920350542916287"
      ]
     },
     "execution_count": 696,
     "metadata": {},
     "output_type": "execute_result"
    }
   ],
   "source": [
    "# Gains\n",
    "'160:'\n",
    "Entropy_HA - (results_cholesterol[0][2][0]/8)*results_cholesterol[0][2][1] - (results_cholesterol[1][2][0]/8)*results_cholesterol[1][2][1] #160\n",
    "'170:'\n",
    "Entropy_HA - (results_cholesterol[2][2][0]/8)*results_cholesterol[2][2][1] - (results_cholesterol[3][2][0]/8)*results_cholesterol[3][2][1] #170\n",
    "'260:'\n",
    "Entropy_HA - (results_cholesterol[4][2][0]/8)*results_cholesterol[4][2][1] - (results_cholesterol[5][2][0]/8)*results_cholesterol[5][2][1] #260\n",
    "'230:'\n",
    "Entropy_HA - (results_cholesterol[6][2][0]/8)*results_cholesterol[6][2][1] - (results_cholesterol[7][2][0]/8)*results_cholesterol[7][2][1] #230\n",
    "'215:'\n",
    "Entropy_HA - (results_cholesterol[8][2][0]/8)*results_cholesterol[8][2][1] - (results_cholesterol[9][2][0]/8)*results_cholesterol[9][2][1] #215\n",
    "'240:'\n",
    "Entropy_HA - (results_cholesterol[10][2][0]/8)*results_cholesterol[10][2][1] - (results_cholesterol[11][2][0]/8)*results_cholesterol[11][2][1] #240\n",
    "'235:'\n",
    "Entropy_HA - (results_cholesterol[12][2][0]/8)*results_cholesterol[12][2][1] - (results_cholesterol[13][2][0]/8)*results_cholesterol[13][2][1] #235\n",
    "'245:'\n",
    "Entropy_HA - (results_cholesterol[14][2][0]/8)*results_cholesterol[14][2][1] - (results_cholesterol[15][2][0]/8)*results_cholesterol[15][2][1] #245"
   ]
  },
  {
   "cell_type": "markdown",
   "metadata": {},
   "source": [
    "### CONCLUSION - FROM THE ABOVE CALCULATION, THE THRESHOLD OF CHOLESTEROL ABOVE/BELOW 215 IS THE ROOT OF THE TREE"
   ]
  },
  {
   "cell_type": "code",
   "execution_count": 697,
   "metadata": {},
   "outputs": [],
   "source": [
    "df1 = df[pd.to_numeric(df['cholesterol']) > 215]"
   ]
  },
  {
   "cell_type": "code",
   "execution_count": 745,
   "metadata": {},
   "outputs": [
    {
     "data": {
      "text/html": [
       "<div>\n",
       "<style scoped>\n",
       "    .dataframe tbody tr th:only-of-type {\n",
       "        vertical-align: middle;\n",
       "    }\n",
       "\n",
       "    .dataframe tbody tr th {\n",
       "        vertical-align: top;\n",
       "    }\n",
       "\n",
       "    .dataframe thead th {\n",
       "        text-align: right;\n",
       "    }\n",
       "</style>\n",
       "<table border=\"1\" class=\"dataframe\">\n",
       "  <thead>\n",
       "    <tr style=\"text-align: right;\">\n",
       "      <th></th>\n",
       "      <th>ID</th>\n",
       "      <th>Family heart attacks</th>\n",
       "      <th>Gender</th>\n",
       "      <th>cholesterol</th>\n",
       "      <th>Blood pressure</th>\n",
       "      <th>Heart attack</th>\n",
       "    </tr>\n",
       "  </thead>\n",
       "  <tbody>\n",
       "    <tr>\n",
       "      <th>1</th>\n",
       "      <td>2</td>\n",
       "      <td>Yes</td>\n",
       "      <td>Male</td>\n",
       "      <td>260</td>\n",
       "      <td>Normal</td>\n",
       "      <td>Yes</td>\n",
       "    </tr>\n",
       "    <tr>\n",
       "      <th>2</th>\n",
       "      <td>3</td>\n",
       "      <td>No</td>\n",
       "      <td>Female</td>\n",
       "      <td>245</td>\n",
       "      <td>Normal</td>\n",
       "      <td>No</td>\n",
       "    </tr>\n",
       "    <tr>\n",
       "      <th>4</th>\n",
       "      <td>5</td>\n",
       "      <td>Yes</td>\n",
       "      <td>Female</td>\n",
       "      <td>230</td>\n",
       "      <td>High</td>\n",
       "      <td>Yes</td>\n",
       "    </tr>\n",
       "    <tr>\n",
       "      <th>6</th>\n",
       "      <td>7</td>\n",
       "      <td>Yes</td>\n",
       "      <td>Female</td>\n",
       "      <td>240</td>\n",
       "      <td>Normal</td>\n",
       "      <td>No</td>\n",
       "    </tr>\n",
       "    <tr>\n",
       "      <th>7</th>\n",
       "      <td>8</td>\n",
       "      <td>No</td>\n",
       "      <td>Male</td>\n",
       "      <td>235</td>\n",
       "      <td>High</td>\n",
       "      <td>Yes</td>\n",
       "    </tr>\n",
       "  </tbody>\n",
       "</table>\n",
       "</div>"
      ],
      "text/plain": [
       "  ID Family heart attacks  Gender cholesterol Blood pressure Heart attack\n",
       "1  2                  Yes    Male         260         Normal          Yes\n",
       "2  3                   No  Female         245         Normal           No\n",
       "4  5                  Yes  Female         230           High          Yes\n",
       "6  7                  Yes  Female         240         Normal           No\n",
       "7  8                   No    Male         235           High          Yes"
      ]
     },
     "execution_count": 745,
     "metadata": {},
     "output_type": "execute_result"
    }
   ],
   "source": [
    "df1"
   ]
  },
  {
   "cell_type": "code",
   "execution_count": 698,
   "metadata": {},
   "outputs": [
    {
     "data": {
      "text/plain": [
       "Yes    3\n",
       "No     2\n",
       "Name: Heart attack, dtype: int64"
      ]
     },
     "execution_count": 698,
     "metadata": {},
     "output_type": "execute_result"
    }
   ],
   "source": [
    "# General - Entropy of heart attack\n",
    "df1['Heart attack'].value_counts()"
   ]
  },
  {
   "cell_type": "code",
   "execution_count": 699,
   "metadata": {},
   "outputs": [
    {
     "data": {
      "text/plain": [
       "0.9709505944546686"
      ]
     },
     "execution_count": 699,
     "metadata": {},
     "output_type": "execute_result"
    }
   ],
   "source": [
    "# Entropy of heart attack\n",
    "Entropy_HA_cholesterol_above_215 = -(3/5)*np.log2(3/5) -(2/5)*np.log2(2/5)\n",
    "Entropy_HA_cholesterol_above_215"
   ]
  },
  {
   "cell_type": "code",
   "execution_count": 700,
   "metadata": {},
   "outputs": [],
   "source": [
    "# for 3 binary columns:\n",
    "cols = ['Family heart attacks','Gender','Blood pressure']"
   ]
  },
  {
   "cell_type": "code",
   "execution_count": 718,
   "metadata": {},
   "outputs": [
    {
     "name": "stderr",
     "output_type": "stream",
     "text": [
      "/Library/Frameworks/Python.framework/Versions/3.6/lib/python3.6/site-packages/ipykernel_launcher.py:7: RuntimeWarning: divide by zero encountered in log2\n",
      "  import sys\n",
      "/Library/Frameworks/Python.framework/Versions/3.6/lib/python3.6/site-packages/ipykernel_launcher.py:7: RuntimeWarning: invalid value encountered in double_scalars\n",
      "  import sys\n"
     ]
    }
   ],
   "source": [
    "results = []\n",
    "for i,c in enumerate(cols):\n",
    "    lables = df1[cols[i]].unique()\n",
    "    for l in lables:\n",
    "        k,r = entropy_per_attribute(df1,c,l,'Heart attack')\n",
    "        if np.isnan(r):\n",
    "            r=0\n",
    "        results.append([c,l,(k,r)])"
   ]
  },
  {
   "cell_type": "code",
   "execution_count": 719,
   "metadata": {},
   "outputs": [
    {
     "data": {
      "text/plain": [
       "[['Family heart attacks', 'Yes', (3, 0.9182958340544896)],\n",
       " ['Family heart attacks', 'No', (2, 1.0)],\n",
       " ['Gender', 'Male', (2, 0)],\n",
       " ['Gender', 'Female', (3, 0.9182958340544896)],\n",
       " ['Blood pressure', 'Normal', (3, 0.9182958340544896)],\n",
       " ['Blood pressure', 'High', (2, 0)]]"
      ]
     },
     "execution_count": 719,
     "metadata": {},
     "output_type": "execute_result"
    }
   ],
   "source": [
    "results"
   ]
  },
  {
   "cell_type": "code",
   "execution_count": 743,
   "metadata": {},
   "outputs": [
    {
     "data": {
      "text/plain": [
       "'Family heart attacks:'"
      ]
     },
     "metadata": {},
     "output_type": "display_data"
    },
    {
     "data": {
      "text/plain": [
       "0.679283927788002"
      ]
     },
     "execution_count": 743,
     "metadata": {},
     "output_type": "execute_result"
    },
    {
     "data": {
      "text/plain": [
       "'Gender:'"
      ]
     },
     "metadata": {},
     "output_type": "display_data"
    },
    {
     "data": {
      "text/plain": [
       "0.8042839277880018"
      ]
     },
     "execution_count": 743,
     "metadata": {},
     "output_type": "execute_result"
    },
    {
     "data": {
      "text/plain": [
       "'Blood pressure:'"
      ]
     },
     "metadata": {},
     "output_type": "display_data"
    },
    {
     "data": {
      "text/plain": [
       "0.8042839277880018"
      ]
     },
     "execution_count": 743,
     "metadata": {},
     "output_type": "execute_result"
    }
   ],
   "source": [
    "# Gains\n",
    "display('Family heart attacks:')\n",
    "Entropy_HA_cholesterol_above_215 - (results[0][2][0]/8)*results[0][2][1] - (results[1][2][0]/8)*results[1][2][1] #'Family heart attacks'\n",
    "display('Gender:')\n",
    "Entropy_HA_cholesterol_above_215 - (results[2][2][0]/8)*results[2][2][1] - (results[3][2][0]/8)*results[3][2][1] #'Gender'\n",
    "display('Blood pressure:')\n",
    "Entropy_HA_cholesterol_above_215 - (results[4][2][0]/8)*results[4][2][1] - (results[5][2][0]/8)*results[5][2][1] #'Blood pressure'"
   ]
  },
  {
   "cell_type": "markdown",
   "metadata": {},
   "source": [
    "### CONCLUSION: WE CAN EITHER SPLIT NOW BY GENDER OR BY BLOOD PRESSURE. IF WE TRY BOTH WE  COULD SEE THAT BOTH OPTIONS WILL GIVE THE SAME GAIN EVENTUALLY IN THE NEXT SPLIT SINCE IN THE NEXT SPLIT WE WILL GET \"PERFECT\" CLASSIFICATION AND THE TOTAL GAIN WILL BE THE SAME. "
   ]
  },
  {
   "cell_type": "markdown",
   "metadata": {},
   "source": [
    "## Drawing of the tree:"
   ]
  },
  {
   "cell_type": "markdown",
   "metadata": {},
   "source": [
    "<img src=\"Q1_decision_tree.png\"> "
   ]
  },
  {
   "cell_type": "markdown",
   "metadata": {},
   "source": [
    "## b"
   ]
  },
  {
   "cell_type": "code",
   "execution_count": null,
   "metadata": {},
   "outputs": [],
   "source": [
    "# The whole thing again with gini"
   ]
  },
  {
   "cell_type": "code",
   "execution_count": 725,
   "metadata": {},
   "outputs": [],
   "source": [
    "def gini_per_attribute(df,attribute,lable,target):\n",
    "    if df[df[attribute] == lable].groupby(target).count().index[0] == 'No':\n",
    "        count = df[df[attribute] == lable].groupby(target).count().ID['No']\n",
    "    else:\n",
    "        count = 0\n",
    "    total = df[df[attribute] == lable].groupby(target).count().ID.sum()\n",
    "    gini = 1-(count/total)**2-((total-count)/total)**2\n",
    "    return total,gini\n",
    "\n",
    "\n",
    "# for the cholesterol column:\n",
    "def gini_per_continues_attribute_bigger(df,attribute,threshold,target):\n",
    "    if np.shape(df[pd.to_numeric(df[attribute]) > threshold].groupby(target).count())[0] == 0 or np.shape(df[pd.to_numeric(df[attribute]) > threshold].groupby(target).count())[1]==0:\n",
    "        count = 0\n",
    "    elif df[pd.to_numeric(df[attribute]) > threshold].groupby(target).count().index[0] == 'No':\n",
    "        count = df[pd.to_numeric(df[attribute]) > threshold].groupby(target).count().ID['No']\n",
    "    else:\n",
    "        count = 0\n",
    "    total = df[pd.to_numeric(df[attribute]) > threshold].groupby(target).count().ID.sum()\n",
    "    gini = 1-(count/total)**2-((total-count)/total)**2\n",
    "    if np.isnan(gini):\n",
    "        gini=0\n",
    "    return total,gini\n",
    "\n",
    "def gini_per_continues_attribute_smaller(df,attribute,threshold,target):\n",
    "    if np.shape(df[pd.to_numeric(df[attribute]) <= threshold].groupby(target).count())[0] == 0 or np.shape(df[pd.to_numeric(df[attribute]) <= threshold].groupby(target).count())[1]==0:\n",
    "        count = 0\n",
    "    elif df[pd.to_numeric(df[attribute]) <= threshold].groupby(target).count().index[0] == 'No':\n",
    "        count = df[pd.to_numeric(df[attribute]) <= threshold].groupby(target).count().ID['No']\n",
    "    else:\n",
    "        count = 0\n",
    "    total = df[pd.to_numeric(df[attribute]) <= threshold].groupby(target).count().ID.sum()\n",
    "    gini = 1-(count/total)**2-((total-count)/total)**2\n",
    "    if np.isnan(gini):\n",
    "        gini=0\n",
    "    return total,gini"
   ]
  },
  {
   "cell_type": "code",
   "execution_count": 722,
   "metadata": {},
   "outputs": [
    {
     "data": {
      "text/plain": [
       "0.46875"
      ]
     },
     "execution_count": 722,
     "metadata": {},
     "output_type": "execute_result"
    }
   ],
   "source": [
    "# gini of heart attack\n",
    "gini_HA = 1-(5/8)**2-(3/8)**2\n",
    "gini_HA"
   ]
  },
  {
   "cell_type": "code",
   "execution_count": 723,
   "metadata": {},
   "outputs": [],
   "source": [
    "# for 3 binary columns:\n",
    "cols = ['Family heart attacks','Gender','Blood pressure']"
   ]
  },
  {
   "cell_type": "code",
   "execution_count": 726,
   "metadata": {},
   "outputs": [],
   "source": [
    "results = []\n",
    "for i,c in enumerate(cols):\n",
    "    lables = df[cols[i]].unique()\n",
    "    for l in lables:\n",
    "        results.append([c,l,gini_per_attribute(df,c,l,'Heart attack')])"
   ]
  },
  {
   "cell_type": "code",
   "execution_count": 727,
   "metadata": {},
   "outputs": [
    {
     "data": {
      "text/plain": [
       "[['Family heart attacks', 'Yes', (4, 0.5)],\n",
       " ['Family heart attacks', 'No', (4, 0.375)],\n",
       " ['Gender', 'Male', (5, 0.48)],\n",
       " ['Gender', 'Female', (3, 0.4444444444444445)],\n",
       " ['Blood pressure', 'High', (3, 0.4444444444444444)],\n",
       " ['Blood pressure', 'Normal', (5, 0.31999999999999984)]]"
      ]
     },
     "execution_count": 727,
     "metadata": {},
     "output_type": "execute_result"
    }
   ],
   "source": [
    "results"
   ]
  },
  {
   "cell_type": "code",
   "execution_count": 728,
   "metadata": {},
   "outputs": [
    {
     "data": {
      "text/plain": [
       "'Family heart attacks:'"
      ]
     },
     "metadata": {},
     "output_type": "display_data"
    },
    {
     "data": {
      "text/plain": [
       "0.03125"
      ]
     },
     "execution_count": 728,
     "metadata": {},
     "output_type": "execute_result"
    },
    {
     "data": {
      "text/plain": [
       "'Gender:'"
      ]
     },
     "metadata": {},
     "output_type": "display_data"
    },
    {
     "data": {
      "text/plain": [
       "0.002083333333333326"
      ]
     },
     "execution_count": 728,
     "metadata": {},
     "output_type": "execute_result"
    },
    {
     "data": {
      "text/plain": [
       "'Blood pressure:'"
      ]
     },
     "metadata": {},
     "output_type": "display_data"
    },
    {
     "data": {
      "text/plain": [
       "0.10208333333333347"
      ]
     },
     "execution_count": 728,
     "metadata": {},
     "output_type": "execute_result"
    }
   ],
   "source": [
    "# Gains\n",
    "display('Family heart attacks:')\n",
    "gini_HA - (results[0][2][0]/8)*results[0][2][1] - (results[1][2][0]/8)*results[1][2][1] #'Family heart attacks'\n",
    "display('Gender:')\n",
    "gini_HA - (results[2][2][0]/8)*results[2][2][1] - (results[3][2][0]/8)*results[3][2][1] #'Gender'\n",
    "display('Blood pressure:')\n",
    "gini_HA - (results[4][2][0]/8)*results[4][2][1] - (results[5][2][0]/8)*results[5][2][1] #'Blood pressure'"
   ]
  },
  {
   "cell_type": "code",
   "execution_count": 729,
   "metadata": {},
   "outputs": [],
   "source": [
    "threshold_values = [160,170,260,230,215,240,235,245]"
   ]
  },
  {
   "cell_type": "code",
   "execution_count": 730,
   "metadata": {},
   "outputs": [
    {
     "name": "stderr",
     "output_type": "stream",
     "text": [
      "/Library/Frameworks/Python.framework/Versions/3.6/lib/python3.6/site-packages/ipykernel_launcher.py:20: RuntimeWarning: invalid value encountered in long_scalars\n"
     ]
    }
   ],
   "source": [
    "results_cholesterol = []\n",
    "for thr in threshold_values:\n",
    "    results_cholesterol.append(['bigger',thr,gini_per_continues_attribute_bigger(df,'cholesterol',thr,'Heart attack')])\n",
    "    results_cholesterol.append(['smaller',thr,gini_per_continues_attribute_smaller(df,'cholesterol',thr,'Heart attack')])\n",
    "    "
   ]
  },
  {
   "cell_type": "code",
   "execution_count": 731,
   "metadata": {},
   "outputs": [
    {
     "data": {
      "text/plain": [
       "[['bigger', 160, (7, 0.48979591836734704)],\n",
       " ['smaller', 160, (1, 0.0)],\n",
       " ['bigger', 170, (6, 0.5)],\n",
       " ['smaller', 170, (2, 0.0)],\n",
       " ['bigger', 260, (0, 0)],\n",
       " ['smaller', 260, (8, 0.46875)],\n",
       " ['bigger', 230, (4, 0.5)],\n",
       " ['smaller', 230, (4, 0.375)],\n",
       " ['bigger', 215, (5, 0.48)],\n",
       " ['smaller', 215, (3, 0.0)],\n",
       " ['bigger', 240, (2, 0.5)],\n",
       " ['smaller', 240, (6, 0.4444444444444445)],\n",
       " ['bigger', 235, (3, 0.4444444444444445)],\n",
       " ['smaller', 235, (5, 0.48)],\n",
       " ['bigger', 245, (1, 0.0)],\n",
       " ['smaller', 245, (7, 0.40816326530612246)]]"
      ]
     },
     "execution_count": 731,
     "metadata": {},
     "output_type": "execute_result"
    }
   ],
   "source": [
    "results_cholesterol"
   ]
  },
  {
   "cell_type": "code",
   "execution_count": 732,
   "metadata": {},
   "outputs": [
    {
     "data": {
      "text/plain": [
       "'160:'"
      ]
     },
     "execution_count": 732,
     "metadata": {},
     "output_type": "execute_result"
    },
    {
     "data": {
      "text/plain": [
       "0.04017857142857134"
      ]
     },
     "execution_count": 732,
     "metadata": {},
     "output_type": "execute_result"
    },
    {
     "data": {
      "text/plain": [
       "'170:'"
      ]
     },
     "execution_count": 732,
     "metadata": {},
     "output_type": "execute_result"
    },
    {
     "data": {
      "text/plain": [
       "0.09375"
      ]
     },
     "execution_count": 732,
     "metadata": {},
     "output_type": "execute_result"
    },
    {
     "data": {
      "text/plain": [
       "'260:'"
      ]
     },
     "execution_count": 732,
     "metadata": {},
     "output_type": "execute_result"
    },
    {
     "data": {
      "text/plain": [
       "0.0"
      ]
     },
     "execution_count": 732,
     "metadata": {},
     "output_type": "execute_result"
    },
    {
     "data": {
      "text/plain": [
       "'230:'"
      ]
     },
     "execution_count": 732,
     "metadata": {},
     "output_type": "execute_result"
    },
    {
     "data": {
      "text/plain": [
       "0.03125"
      ]
     },
     "execution_count": 732,
     "metadata": {},
     "output_type": "execute_result"
    },
    {
     "data": {
      "text/plain": [
       "'215:'"
      ]
     },
     "execution_count": 732,
     "metadata": {},
     "output_type": "execute_result"
    },
    {
     "data": {
      "text/plain": [
       "0.16875"
      ]
     },
     "execution_count": 732,
     "metadata": {},
     "output_type": "execute_result"
    },
    {
     "data": {
      "text/plain": [
       "'240:'"
      ]
     },
     "execution_count": 732,
     "metadata": {},
     "output_type": "execute_result"
    },
    {
     "data": {
      "text/plain": [
       "0.01041666666666663"
      ]
     },
     "execution_count": 732,
     "metadata": {},
     "output_type": "execute_result"
    },
    {
     "data": {
      "text/plain": [
       "'235:'"
      ]
     },
     "execution_count": 732,
     "metadata": {},
     "output_type": "execute_result"
    },
    {
     "data": {
      "text/plain": [
       "0.002083333333333326"
      ]
     },
     "execution_count": 732,
     "metadata": {},
     "output_type": "execute_result"
    },
    {
     "data": {
      "text/plain": [
       "'245:'"
      ]
     },
     "execution_count": 732,
     "metadata": {},
     "output_type": "execute_result"
    },
    {
     "data": {
      "text/plain": [
       "0.11160714285714285"
      ]
     },
     "execution_count": 732,
     "metadata": {},
     "output_type": "execute_result"
    }
   ],
   "source": [
    "# Gains\n",
    "'160:'\n",
    "gini_HA - (results_cholesterol[0][2][0]/8)*results_cholesterol[0][2][1] - (results_cholesterol[1][2][0]/8)*results_cholesterol[1][2][1] #160\n",
    "'170:'\n",
    "gini_HA - (results_cholesterol[2][2][0]/8)*results_cholesterol[2][2][1] - (results_cholesterol[3][2][0]/8)*results_cholesterol[3][2][1] #170\n",
    "'260:'\n",
    "gini_HA - (results_cholesterol[4][2][0]/8)*results_cholesterol[4][2][1] - (results_cholesterol[5][2][0]/8)*results_cholesterol[5][2][1] #260\n",
    "'230:'\n",
    "gini_HA - (results_cholesterol[6][2][0]/8)*results_cholesterol[6][2][1] - (results_cholesterol[7][2][0]/8)*results_cholesterol[7][2][1] #230\n",
    "'215:'\n",
    "gini_HA - (results_cholesterol[8][2][0]/8)*results_cholesterol[8][2][1] - (results_cholesterol[9][2][0]/8)*results_cholesterol[9][2][1] #215\n",
    "'240:'\n",
    "gini_HA - (results_cholesterol[10][2][0]/8)*results_cholesterol[10][2][1] - (results_cholesterol[11][2][0]/8)*results_cholesterol[11][2][1] #240\n",
    "'235:'\n",
    "gini_HA - (results_cholesterol[12][2][0]/8)*results_cholesterol[12][2][1] - (results_cholesterol[13][2][0]/8)*results_cholesterol[13][2][1] #235\n",
    "'245:'\n",
    "gini_HA - (results_cholesterol[14][2][0]/8)*results_cholesterol[14][2][1] - (results_cholesterol[15][2][0]/8)*results_cholesterol[15][2][1] #245"
   ]
  },
  {
   "cell_type": "markdown",
   "metadata": {},
   "source": [
    "### CONCLUSION: AGAIN, THE ROOT OF THE TREE IS CHOLESTEROL ABOVE/BELOW 215"
   ]
  },
  {
   "cell_type": "code",
   "execution_count": 734,
   "metadata": {},
   "outputs": [],
   "source": [
    "df1 = df[pd.to_numeric(df['cholesterol']) > 215]"
   ]
  },
  {
   "cell_type": "code",
   "execution_count": 735,
   "metadata": {},
   "outputs": [
    {
     "data": {
      "text/plain": [
       "Yes    3\n",
       "No     2\n",
       "Name: Heart attack, dtype: int64"
      ]
     },
     "execution_count": 735,
     "metadata": {},
     "output_type": "execute_result"
    }
   ],
   "source": [
    "# General - Entropy of heart attack\n",
    "df1['Heart attack'].value_counts()"
   ]
  },
  {
   "cell_type": "code",
   "execution_count": 738,
   "metadata": {},
   "outputs": [
    {
     "data": {
      "text/plain": [
       "0.48"
      ]
     },
     "execution_count": 738,
     "metadata": {},
     "output_type": "execute_result"
    }
   ],
   "source": [
    "# Entropy of heart attack\n",
    "gini_HA_cholesterol_above_215 = 1-(3/5)**2-(2/5)**2\n",
    "gini_HA_cholesterol_above_215"
   ]
  },
  {
   "cell_type": "code",
   "execution_count": 739,
   "metadata": {},
   "outputs": [],
   "source": [
    "# for 3 binary columns:\n",
    "cols = ['Family heart attacks','Gender','Blood pressure']"
   ]
  },
  {
   "cell_type": "code",
   "execution_count": 740,
   "metadata": {},
   "outputs": [],
   "source": [
    "results = []\n",
    "for i,c in enumerate(cols):\n",
    "    lables = df1[cols[i]].unique()\n",
    "    for l in lables:\n",
    "        k,r = gini_per_attribute(df1,c,l,'Heart attack')\n",
    "        if np.isnan(r):\n",
    "            r=0\n",
    "        results.append([c,l,(k,r)])"
   ]
  },
  {
   "cell_type": "code",
   "execution_count": 741,
   "metadata": {},
   "outputs": [
    {
     "data": {
      "text/plain": [
       "[['Family heart attacks', 'Yes', (3, 0.4444444444444444)],\n",
       " ['Family heart attacks', 'No', (2, 0.5)],\n",
       " ['Gender', 'Male', (2, 0.0)],\n",
       " ['Gender', 'Female', (3, 0.4444444444444445)],\n",
       " ['Blood pressure', 'Normal', (3, 0.4444444444444445)],\n",
       " ['Blood pressure', 'High', (2, 0.0)]]"
      ]
     },
     "execution_count": 741,
     "metadata": {},
     "output_type": "execute_result"
    }
   ],
   "source": [
    "results"
   ]
  },
  {
   "cell_type": "code",
   "execution_count": 744,
   "metadata": {},
   "outputs": [
    {
     "data": {
      "text/plain": [
       "'Family heart attacks:'"
      ]
     },
     "metadata": {},
     "output_type": "display_data"
    },
    {
     "data": {
      "text/plain": [
       "0.17708333333333337"
      ]
     },
     "execution_count": 744,
     "metadata": {},
     "output_type": "execute_result"
    },
    {
     "data": {
      "text/plain": [
       "'Gender:'"
      ]
     },
     "metadata": {},
     "output_type": "display_data"
    },
    {
     "data": {
      "text/plain": [
       "0.3020833333333333"
      ]
     },
     "execution_count": 744,
     "metadata": {},
     "output_type": "execute_result"
    },
    {
     "data": {
      "text/plain": [
       "'Blood pressure:'"
      ]
     },
     "metadata": {},
     "output_type": "display_data"
    },
    {
     "data": {
      "text/plain": [
       "0.3020833333333333"
      ]
     },
     "execution_count": 744,
     "metadata": {},
     "output_type": "execute_result"
    }
   ],
   "source": [
    "# Gains\n",
    "display('Family heart attacks:')\n",
    "gini_HA - (results[0][2][0]/8)*results[0][2][1] - (results[1][2][0]/8)*results[1][2][1] #'Family heart attacks'\n",
    "display('Gender:')\n",
    "gini_HA - (results[2][2][0]/8)*results[2][2][1] - (results[3][2][0]/8)*results[3][2][1] #'Gender'\n",
    "display('Blood pressure:')\n",
    "gini_HA - (results[4][2][0]/8)*results[4][2][1] - (results[5][2][0]/8)*results[5][2][1] #'Blood pressure'"
   ]
  },
  {
   "cell_type": "markdown",
   "metadata": {},
   "source": [
    "### CONCLUSION: HERE AGAIN, WE CAN SEE THAT WE COULD EITHER SPLIT BY GENDER OR BY BLOOD PRESSURE, AND THAT EVENTUALLY IT WILL NOT MATTER WHICH IS FIRST. \n",
    "### AND SO THE ANSWER TO B IS THAT YES, WE GOT THE SAME TREE. "
   ]
  },
  {
   "cell_type": "markdown",
   "metadata": {},
   "source": [
    "## c"
   ]
  },
  {
   "cell_type": "markdown",
   "metadata": {},
   "source": [
    "We can see from the above calculations that yes, using Gini or Entropy impurity can create the same tree. We don't think that it sould always be the same tree..... AN EXAMPLE ? DOES IT HAVE TO DO WITH BINARY/NOT BINARY OR LOG-LOSS?"
   ]
  },
  {
   "cell_type": "code",
   "execution_count": null,
   "metadata": {},
   "outputs": [],
   "source": []
  },
  {
   "cell_type": "markdown",
   "metadata": {},
   "source": [
    "# Q2 - AdaBoost"
   ]
  },
  {
   "cell_type": "markdown",
   "metadata": {},
   "source": [
    "## a"
   ]
  },
  {
   "cell_type": "markdown",
   "metadata": {},
   "source": [
    "Explain the assumption on WL() and each of the algorithm steps:"
   ]
  },
  {
   "cell_type": "markdown",
   "metadata": {},
   "source": [
    "$(i) h_t = 𝑊𝐿(𝐷^{(𝑡)},𝑆) $"
   ]
  },
  {
   "cell_type": "markdown",
   "metadata": {},
   "source": [
    "The algorithm at round t defines a distribution over the examples in S - $D^{(t)}$, where $\\sum_{i=1}^{m} 𝐷^{(𝑡)} = 1$. The first assumption says that there exists a family of weak learners - WL - and when the algorithm will pass D and S to the WL(), it will construct, based on D and S, a \"weak\" hypothesis $h_t$. "
   ]
  },
  {
   "cell_type": "markdown",
   "metadata": {},
   "source": [
    "$ (ii) \\epsilon_t = \\sum_{i=1}^{m} D_i^{(t)}1_{[h_t(x_i)≠y_i]}$"
   ]
  },
  {
   "cell_type": "markdown",
   "metadata": {},
   "source": [
    "The error of this \"weak\" hypothesis is the above statement - it is the number of samples classified wrong times the \"weights\" vector $𝐷^{(𝑡)}$. This error is at most 1/2 - $\\gamma$ - meaning in the worst case it will give random results. Next, the AdaBoost algorithm assigns a weight for $h_t$ as follows: "
   ]
  },
  {
   "cell_type": "markdown",
   "metadata": {},
   "source": [
    "$w_t = \\frac{1}{2}log(\\frac{1}{\\epsilon_t}-1) $ - this is the weight of this WL we found. This weight is inversely proportional to the error of $h_t$."
   ]
  },
  {
   "cell_type": "markdown",
   "metadata": {},
   "source": [
    "$(iii) D_i^{(t+1)} \\propto D_i^{(t)} e^{-w_t y_i h_t(x_i)} $"
   ]
  },
  {
   "cell_type": "markdown",
   "metadata": {},
   "source": [
    "Now, the AdaBoost will update the distribution D so that the examples on which $h_t$ was wrong, will get a higher probability mass while examples on which $h_t$ was right, will get a lower probability mass. This will force the weak learner to focus on the problematic examples in the next round. "
   ]
  },
  {
   "cell_type": "markdown",
   "metadata": {},
   "source": [
    "## b"
   ]
  },
  {
   "cell_type": "markdown",
   "metadata": {},
   "source": [
    "show that: $\\sum_{i=1}^{m} D_i^{(t)} e^{-w_t y_i h_t(x_i)} = 2\\sqrt{\\epsilon_t (1 − \\epsilon_t )} $"
   ]
  },
  {
   "cell_type": "markdown",
   "metadata": {},
   "source": [
    "$\\sum_{i=1}^{m} D_i^{(t)} e^{-w_t y_i h_t(x_i)} = \\sum_{i=1}^{m} D_{i:h_t(x_i)=y_i}^{(t)} e^{-w_t y_i h_t(x_i)} + \\sum_{i=1}^{m} D_{i:h_t(x_i)\\neq y_i}^{(t)} e^{-w_t y_i h_t(x_i)} = e^{-w_t}\\sum_{i=1}^{m} D_{i:h_t(x_i)=y_i}^{(t)} + e^{w_t}\\sum_{i=1}^{m} D_{i:h_t(x_i)\\neq y_i}^{(t)} = e^{-w_t}(1-\\epsilon_t) + e^{w_t}\\epsilon_t $"
   ]
  },
  {
   "cell_type": "markdown",
   "metadata": {},
   "source": [
    "since: $w_t = \\frac{1}{2}log(\\frac{1}{\\epsilon_t}-1)$, then: $e^{w_t} = \\sqrt{\\frac{1-\\epsilon_t}{\\epsilon_t}}$ and: $e^{-w_t} = \\frac{1}{\\sqrt{\\frac{1-\\epsilon_t}{\\epsilon_t}}}$"
   ]
  },
  {
   "cell_type": "markdown",
   "metadata": {},
   "source": [
    "$  e^{-w_t}(1-\\epsilon_t) + e^{w_t}\\epsilon_t = \\sqrt{\\frac{\\epsilon_t}{1-\\epsilon_t}}(1-\\epsilon_t) + \\sqrt{\\frac{1-\\epsilon_t}{\\epsilon_t}}\\epsilon_t = 2\\sqrt{\\epsilon_t(1-\\epsilon_t)}$"
   ]
  },
  {
   "cell_type": "markdown",
   "metadata": {},
   "source": [
    "## c"
   ]
  },
  {
   "cell_type": "markdown",
   "metadata": {},
   "source": [
    "show that: $\\sum_{i=1}^{m} D_i^{(t+1)}1_{[h_t(x_i)≠y_i]} = \\frac{1}{2}$"
   ]
  },
  {
   "cell_type": "markdown",
   "metadata": {},
   "source": [
    "We know that: \n",
    "$D_i^{(t+1)} = \\frac{D_i^{t} e^{-w_t y_i h_t(x_i)}}{\\sum_{j=1}^{m} D_j^{(t)} e^{-w_t y_j h_t(x_j)} }$"
   ]
  },
  {
   "cell_type": "markdown",
   "metadata": {},
   "source": [
    "So, relaying on the previous proof:"
   ]
  },
  {
   "cell_type": "markdown",
   "metadata": {},
   "source": [
    "$\\sum_{i=1}^{m} D_{i:h_t(x_i)\\neq y_i}^{(t+1)} = \\frac{\\epsilon_t  e^{w_t}}{ e^{-w_t}(1-\\epsilon_t) + e^{w_t}\\epsilon_t} = \\frac{\\epsilon_t  \\sqrt{\\frac{1-\\epsilon_t}{\\epsilon_t}}}{2\\sqrt{\\epsilon_t (1 − \\epsilon_t )}} = \\frac{\\epsilon_t}{2}\\sqrt{\\frac{(1-\\epsilon_t)}{\\epsilon_t \\epsilon_t(1-\\epsilon_t)}} = \\frac{1}{2}$"
   ]
  },
  {
   "cell_type": "markdown",
   "metadata": {},
   "source": [
    "## d"
   ]
  },
  {
   "cell_type": "markdown",
   "metadata": {},
   "source": [
    "What is the minimal number of steps required for the loss function to be zero on the training set ?"
   ]
  },
  {
   "cell_type": "markdown",
   "metadata": {},
   "source": [
    "We know that: "
   ]
  },
  {
   "cell_type": "markdown",
   "metadata": {},
   "source": [
    "$L_s(\\hat{h}) = \\frac{1}{m}  \\sum_{i=1}^{m} 1_{[h_t(x_i)≠y_i]} \\leq e^{-2\\gamma^2T} $"
   ]
  },
  {
   "cell_type": "markdown",
   "metadata": {},
   "source": [
    "Lets assume that we have a training set of million samples, and we have only one mistake, so the empirical error is: $L_s(\\hat{h}) = \\frac{1}{1,000,000} = 10^{-6}$"
   ]
  },
  {
   "cell_type": "markdown",
   "metadata": {},
   "source": [
    "Then, if $e^{-2\\gamma^2T} < \\frac{1}{1,000,000} $ ---> The error on the training set is necessarily zero. "
   ]
  },
  {
   "cell_type": "markdown",
   "metadata": {},
   "source": [
    "Lets assume $\\gamma = 0.1$ and ask - When  $e^{-2\\gamma^2T} < \\frac{1}{1,000,000} $ ?"
   ]
  },
  {
   "cell_type": "markdown",
   "metadata": {},
   "source": [
    "When $e^{2\\gamma^2T} > 10^{6} $ ? ---> When $e^{0.02T} > 10^{6} $ ? ---> When $ 0.02T > \\ln(10^{6}) $ ?"
   ]
  },
  {
   "cell_type": "markdown",
   "metadata": {},
   "source": [
    "$ T > \\frac{ln(10^{6})}{0.02} $"
   ]
  },
  {
   "cell_type": "markdown",
   "metadata": {},
   "source": [
    "So T must be greater than 691 steps to get zero error on the training set, with the parameters we choose. "
   ]
  },
  {
   "cell_type": "markdown",
   "metadata": {},
   "source": [
    "# Q3"
   ]
  },
  {
   "cell_type": "markdown",
   "metadata": {},
   "source": [
    "## 1 - Load data"
   ]
  },
  {
   "cell_type": "code",
   "execution_count": 125,
   "metadata": {},
   "outputs": [],
   "source": [
    "import matplotlib.pyplot as plt\n",
    "from sklearn.model_selection import train_test_split\n",
    "from sklearn.datasets import load_breast_cancer"
   ]
  },
  {
   "cell_type": "code",
   "execution_count": 126,
   "metadata": {},
   "outputs": [],
   "source": [
    "data, target = load_breast_cancer(return_X_y=True)"
   ]
  },
  {
   "cell_type": "code",
   "execution_count": 127,
   "metadata": {},
   "outputs": [],
   "source": [
    "df = pd.DataFrame(data)\n",
    "df['cancer_type'] = target\n",
    "# df.loc[df['cancer_type'] == 0,'cancer_type'] = 'malignant'\n",
    "# df.loc[df['cancer_type'] == 1,'cancer_type'] = 'benign'"
   ]
  },
  {
   "cell_type": "code",
   "execution_count": 128,
   "metadata": {},
   "outputs": [
    {
     "data": {
      "text/html": [
       "<div>\n",
       "<style scoped>\n",
       "    .dataframe tbody tr th:only-of-type {\n",
       "        vertical-align: middle;\n",
       "    }\n",
       "\n",
       "    .dataframe tbody tr th {\n",
       "        vertical-align: top;\n",
       "    }\n",
       "\n",
       "    .dataframe thead th {\n",
       "        text-align: right;\n",
       "    }\n",
       "</style>\n",
       "<table border=\"1\" class=\"dataframe\">\n",
       "  <thead>\n",
       "    <tr style=\"text-align: right;\">\n",
       "      <th></th>\n",
       "      <th>0</th>\n",
       "      <th>1</th>\n",
       "      <th>2</th>\n",
       "      <th>3</th>\n",
       "      <th>4</th>\n",
       "      <th>5</th>\n",
       "      <th>6</th>\n",
       "      <th>7</th>\n",
       "      <th>8</th>\n",
       "      <th>9</th>\n",
       "      <th>...</th>\n",
       "      <th>21</th>\n",
       "      <th>22</th>\n",
       "      <th>23</th>\n",
       "      <th>24</th>\n",
       "      <th>25</th>\n",
       "      <th>26</th>\n",
       "      <th>27</th>\n",
       "      <th>28</th>\n",
       "      <th>29</th>\n",
       "      <th>cancer_type</th>\n",
       "    </tr>\n",
       "  </thead>\n",
       "  <tbody>\n",
       "    <tr>\n",
       "      <th>0</th>\n",
       "      <td>17.99</td>\n",
       "      <td>10.38</td>\n",
       "      <td>122.80</td>\n",
       "      <td>1001.0</td>\n",
       "      <td>0.11840</td>\n",
       "      <td>0.27760</td>\n",
       "      <td>0.3001</td>\n",
       "      <td>0.14710</td>\n",
       "      <td>0.2419</td>\n",
       "      <td>0.07871</td>\n",
       "      <td>...</td>\n",
       "      <td>17.33</td>\n",
       "      <td>184.60</td>\n",
       "      <td>2019.0</td>\n",
       "      <td>0.1622</td>\n",
       "      <td>0.6656</td>\n",
       "      <td>0.7119</td>\n",
       "      <td>0.2654</td>\n",
       "      <td>0.4601</td>\n",
       "      <td>0.11890</td>\n",
       "      <td>0</td>\n",
       "    </tr>\n",
       "    <tr>\n",
       "      <th>1</th>\n",
       "      <td>20.57</td>\n",
       "      <td>17.77</td>\n",
       "      <td>132.90</td>\n",
       "      <td>1326.0</td>\n",
       "      <td>0.08474</td>\n",
       "      <td>0.07864</td>\n",
       "      <td>0.0869</td>\n",
       "      <td>0.07017</td>\n",
       "      <td>0.1812</td>\n",
       "      <td>0.05667</td>\n",
       "      <td>...</td>\n",
       "      <td>23.41</td>\n",
       "      <td>158.80</td>\n",
       "      <td>1956.0</td>\n",
       "      <td>0.1238</td>\n",
       "      <td>0.1866</td>\n",
       "      <td>0.2416</td>\n",
       "      <td>0.1860</td>\n",
       "      <td>0.2750</td>\n",
       "      <td>0.08902</td>\n",
       "      <td>0</td>\n",
       "    </tr>\n",
       "    <tr>\n",
       "      <th>2</th>\n",
       "      <td>19.69</td>\n",
       "      <td>21.25</td>\n",
       "      <td>130.00</td>\n",
       "      <td>1203.0</td>\n",
       "      <td>0.10960</td>\n",
       "      <td>0.15990</td>\n",
       "      <td>0.1974</td>\n",
       "      <td>0.12790</td>\n",
       "      <td>0.2069</td>\n",
       "      <td>0.05999</td>\n",
       "      <td>...</td>\n",
       "      <td>25.53</td>\n",
       "      <td>152.50</td>\n",
       "      <td>1709.0</td>\n",
       "      <td>0.1444</td>\n",
       "      <td>0.4245</td>\n",
       "      <td>0.4504</td>\n",
       "      <td>0.2430</td>\n",
       "      <td>0.3613</td>\n",
       "      <td>0.08758</td>\n",
       "      <td>0</td>\n",
       "    </tr>\n",
       "    <tr>\n",
       "      <th>3</th>\n",
       "      <td>11.42</td>\n",
       "      <td>20.38</td>\n",
       "      <td>77.58</td>\n",
       "      <td>386.1</td>\n",
       "      <td>0.14250</td>\n",
       "      <td>0.28390</td>\n",
       "      <td>0.2414</td>\n",
       "      <td>0.10520</td>\n",
       "      <td>0.2597</td>\n",
       "      <td>0.09744</td>\n",
       "      <td>...</td>\n",
       "      <td>26.50</td>\n",
       "      <td>98.87</td>\n",
       "      <td>567.7</td>\n",
       "      <td>0.2098</td>\n",
       "      <td>0.8663</td>\n",
       "      <td>0.6869</td>\n",
       "      <td>0.2575</td>\n",
       "      <td>0.6638</td>\n",
       "      <td>0.17300</td>\n",
       "      <td>0</td>\n",
       "    </tr>\n",
       "    <tr>\n",
       "      <th>4</th>\n",
       "      <td>20.29</td>\n",
       "      <td>14.34</td>\n",
       "      <td>135.10</td>\n",
       "      <td>1297.0</td>\n",
       "      <td>0.10030</td>\n",
       "      <td>0.13280</td>\n",
       "      <td>0.1980</td>\n",
       "      <td>0.10430</td>\n",
       "      <td>0.1809</td>\n",
       "      <td>0.05883</td>\n",
       "      <td>...</td>\n",
       "      <td>16.67</td>\n",
       "      <td>152.20</td>\n",
       "      <td>1575.0</td>\n",
       "      <td>0.1374</td>\n",
       "      <td>0.2050</td>\n",
       "      <td>0.4000</td>\n",
       "      <td>0.1625</td>\n",
       "      <td>0.2364</td>\n",
       "      <td>0.07678</td>\n",
       "      <td>0</td>\n",
       "    </tr>\n",
       "  </tbody>\n",
       "</table>\n",
       "<p>5 rows × 31 columns</p>\n",
       "</div>"
      ],
      "text/plain": [
       "       0      1       2       3        4        5       6        7       8  \\\n",
       "0  17.99  10.38  122.80  1001.0  0.11840  0.27760  0.3001  0.14710  0.2419   \n",
       "1  20.57  17.77  132.90  1326.0  0.08474  0.07864  0.0869  0.07017  0.1812   \n",
       "2  19.69  21.25  130.00  1203.0  0.10960  0.15990  0.1974  0.12790  0.2069   \n",
       "3  11.42  20.38   77.58   386.1  0.14250  0.28390  0.2414  0.10520  0.2597   \n",
       "4  20.29  14.34  135.10  1297.0  0.10030  0.13280  0.1980  0.10430  0.1809   \n",
       "\n",
       "         9     ...          21      22      23      24      25      26  \\\n",
       "0  0.07871     ...       17.33  184.60  2019.0  0.1622  0.6656  0.7119   \n",
       "1  0.05667     ...       23.41  158.80  1956.0  0.1238  0.1866  0.2416   \n",
       "2  0.05999     ...       25.53  152.50  1709.0  0.1444  0.4245  0.4504   \n",
       "3  0.09744     ...       26.50   98.87   567.7  0.2098  0.8663  0.6869   \n",
       "4  0.05883     ...       16.67  152.20  1575.0  0.1374  0.2050  0.4000   \n",
       "\n",
       "       27      28       29  cancer_type  \n",
       "0  0.2654  0.4601  0.11890            0  \n",
       "1  0.1860  0.2750  0.08902            0  \n",
       "2  0.2430  0.3613  0.08758            0  \n",
       "3  0.2575  0.6638  0.17300            0  \n",
       "4  0.1625  0.2364  0.07678            0  \n",
       "\n",
       "[5 rows x 31 columns]"
      ]
     },
     "execution_count": 128,
     "metadata": {},
     "output_type": "execute_result"
    }
   ],
   "source": [
    "df.head()"
   ]
  },
  {
   "cell_type": "markdown",
   "metadata": {},
   "source": [
    "## 2 - Entropy impurity"
   ]
  },
  {
   "cell_type": "code",
   "execution_count": 262,
   "metadata": {},
   "outputs": [],
   "source": [
    "def single_entropy(df):\n",
    "    count = np.sum(df['cancer_type'])#benign\n",
    "    total = np.shape(df)[0]\n",
    "    if count == 0 or count == total:\n",
    "        return total, 0\n",
    "    else:        \n",
    "        return total, -(count/total)*np.log2(count/total)-((total-count)/total)*np.log2((total-count)/total)    \n",
    "    \n",
    "def entropy(df,col,thr):\n",
    "    s = np.shape(df)[0]\n",
    "    s_b, bigger = single_entropy(df[df[col].values > thr])\n",
    "    s_s, smaller = single_entropy(df[df[col].values <= thr])    \n",
    "    return s,s_b,bigger,s_s,smaller\n",
    "# return s(size of total), size of bigger, entropy_bigger, size of smaller, entropy_smaller"
   ]
  },
  {
   "cell_type": "markdown",
   "metadata": {},
   "source": [
    "## 3 - Building the tree using CART algorithm "
   ]
  },
  {
   "cell_type": "code",
   "execution_count": 258,
   "metadata": {},
   "outputs": [],
   "source": [
    "def calculate_all_options(df):\n",
    "    impurity = []\n",
    "    for j in df.columns[:-1]: #don't calculate for the last column ('cancer type')\n",
    "        for a in df[j]:\n",
    "#             if a == df[j].max(): \n",
    "#                 continue\n",
    "            s,s_b,bigger,s_s,smaller = entropy(df,j,a)\n",
    "            impurity.append([j,a,s,s_b,bigger,s_s,smaller])\n",
    "    return impurity\n",
    "\n",
    "def choose_split(impurity, df):\n",
    "    antropy_sum = [(impurity[i][3]/impurity[i][2])*impurity[i][4] + (impurity[i][5]/impurity[i][2])*impurity[i][6] for i in range(np.shape(impurity)[0])]\n",
    "    col, thr = impurity[np.argmin(antropy_sum)][0:2]\n",
    "    df_b = df[df[col].values > thr]\n",
    "    df_b.reset_index(inplace = True, drop=True)\n",
    "    \n",
    "    df_se = df[df[col].values <= thr]\n",
    "    df_se.reset_index(inplace = True, drop=True)\n",
    "    \n",
    "    return col, thr, df_b, df_se"
   ]
  },
  {
   "cell_type": "code",
   "execution_count": 259,
   "metadata": {
    "scrolled": true
   },
   "outputs": [],
   "source": [
    "from anytree import Node, RenderTree"
   ]
  },
  {
   "cell_type": "code",
   "execution_count": 260,
   "metadata": {},
   "outputs": [],
   "source": [
    "def create_decision_tree(df):\n",
    "    print(\"single_entropy(df) {} df.size {}\".format(single_entropy(df)[1], np.shape(df)))\n",
    "    if single_entropy(df)[1] == 0: # when all classes are the same in the node\n",
    "        cancer_type = df.loc[0,'cancer_type']\n",
    "        node = Node(\"leaf:{}\".format(cancer_type), cancer_type=cancer_type)\n",
    "        return node\n",
    "    \n",
    "    impurity = calculate_all_options(df)\n",
    "    col, thr, df_b, df_se = choose_split(impurity, df)\n",
    "    \n",
    "    node = Node(\"node: col:{} thr:{}\".format(col, thr), col=col, thr=thr)\n",
    "    node.children = [create_decision_tree(df_se), create_decision_tree(df_b)] \n",
    "    return node"
   ]
  },
  {
   "cell_type": "code",
   "execution_count": 261,
   "metadata": {
    "scrolled": false
   },
   "outputs": [
    {
     "name": "stdout",
     "output_type": "stream",
     "text": [
      "single_entropy(df) 0.9526351224018599 df.size (569, 31)\n",
      "single_entropy(df) 0.2833107377061481 df.size (345, 31)\n",
      "single_entropy(df) 0.09694460606247315 df.size (320, 31)\n",
      "single_entropy(df) 0.055328485037954615 df.size (316, 31)\n",
      "single_entropy(df) 0 df.size (274, 31)\n",
      "single_entropy(df) 0.2761954276479391 df.size (42, 31)\n",
      "single_entropy(df) 0 df.size (1, 31)\n",
      "single_entropy(df) 0.1654270339962668 df.size (41, 31)\n",
      "single_entropy(df) 0 df.size (33, 31)\n",
      "single_entropy(df) 0.5435644431995964 df.size (8, 31)\n",
      "single_entropy(df) 0 df.size (1, 31)\n",
      "single_entropy(df) 0 df.size (7, 31)\n",
      "single_entropy(df) 1.0 df.size (4, 31)\n",
      "single_entropy(df) 0 df.size (2, 31)\n",
      "single_entropy(df) 0 df.size (2, 31)\n",
      "single_entropy(df) 0.9988455359952018 df.size (25, 31)\n",
      "single_entropy(df) 0.8112781244591328 df.size (16, 31)\n",
      "single_entropy(df) 0 df.size (11, 31)\n",
      "single_entropy(df) 0.7219280948873623 df.size (5, 31)\n",
      "single_entropy(df) 0 df.size (1, 31)\n",
      "single_entropy(df) 0 df.size (4, 31)\n",
      "single_entropy(df) 0 df.size (9, 31)\n",
      "single_entropy(df) 0.5559671540224538 df.size (224, 31)\n",
      "single_entropy(df) 0.9980008838722996 df.size (57, 31)\n",
      "single_entropy(df) 0.7871265862012691 df.size (34, 31)\n",
      "single_entropy(df) 0 df.size (20, 31)\n",
      "single_entropy(df) 0.9852281360342515 df.size (14, 31)\n",
      "single_entropy(df) 0.8112781244591328 df.size (8, 31)\n",
      "single_entropy(df) 0 df.size (6, 31)\n",
      "single_entropy(df) 0 df.size (2, 31)\n",
      "single_entropy(df) 0 df.size (6, 31)\n",
      "single_entropy(df) 0.2580186686648155 df.size (23, 31)\n",
      "single_entropy(df) 0 df.size (1, 31)\n",
      "single_entropy(df) 0 df.size (22, 31)\n",
      "single_entropy(df) 0.09362545803956356 df.size (167, 31)\n",
      "single_entropy(df) 0.9182958340544896 df.size (3, 31)\n",
      "single_entropy(df) 0 df.size (2, 31)\n",
      "single_entropy(df) 0 df.size (1, 31)\n",
      "single_entropy(df) 0 df.size (164, 31)\n"
     ]
    }
   ],
   "source": [
    "node = create_decision_tree(df)"
   ]
  },
  {
   "cell_type": "code",
   "execution_count": 281,
   "metadata": {},
   "outputs": [
    {
     "name": "stdout",
     "output_type": "stream",
     "text": [
      "Node('/node: col:22 thr:105.9', col=22, thr=105.9)\n",
      "├── Node('/node: col:22 thr:105.9/node: col:27 thr:0.1342', col=27, thr=0.1342)\n",
      "│   ├── Node('/node: col:22 thr:105.9/node: col:27 thr:0.1342/node: col:13 thr:48.84', col=13, thr=48.84)\n",
      "│   │   ├── Node('/node: col:22 thr:105.9/node: col:27 thr:0.1342/node: col:13 thr:48.84/node: col:21 thr:30.04', col=21, thr=30.04)\n",
      "│   │   │   ├── Node('/node: col:22 thr:105.9/node: col:27 thr:0.1342/node: col:13 thr:48.84/node: col:21 thr:30.04/leaf:1', cancer_type=1)\n",
      "│   │   │   └── Node('/node: col:22 thr:105.9/node: col:27 thr:0.1342/node: col:13 thr:48.84/node: col:21 thr:30.04/node: col:11 thr:0.8265', col=11, thr=0.8265)\n",
      "│   │   │       ├── Node('/node: col:22 thr:105.9/node: col:27 thr:0.1342/node: col:13 thr:48.84/node: col:21 thr:30.04/node: col:11 thr:0.8265/leaf:0', cancer_type=0)\n",
      "│   │   │       └── Node('/node: col:22 thr:105.9/node: col:27 thr:0.1342/node: col:13 thr:48.84/node: col:21 thr:30.04/node: col:11 thr:0.8265/node: col:20 thr:14.37', col=20, thr=14.37)\n",
      "│   │   │           ├── Node('/node: col:22 thr:105.9/node: col:27 thr:0.1342/node: col:13 thr:48.84/node: col:21 thr:30.04/node: col:11 thr:0.8265/node: col:20 thr:14.37/leaf:1', cancer_type=1)\n",
      "│   │   │           └── Node('/node: col:22 thr:105.9/node: col:27 thr:0.1342/node: col:13 thr:48.84/node: col:21 thr:30.04/node: col:11 thr:0.8265/node: col:20 thr:14.37/node: col:0 thr:12.77', col=0, thr=12.77)\n",
      "│   │   │               ├── Node('/node: col:22 thr:105.9/node: col:27 thr:0.1342/node: col:13 thr:48.84/node: col:21 thr:30.04/node: col:11 thr:0.8265/node: col:20 thr:14.37/node: col:0 thr:12.77/leaf:0', cancer_type=0)\n",
      "│   │   │               └── Node('/node: col:22 thr:105.9/node: col:27 thr:0.1342/node: col:13 thr:48.84/node: col:21 thr:30.04/node: col:11 thr:0.8265/node: col:20 thr:14.37/node: col:0 thr:12.77/leaf:1', cancer_type=1)\n",
      "│   │   └── Node('/node: col:22 thr:105.9/node: col:27 thr:0.1342/node: col:13 thr:48.84/node: col:4 thr:0.08757', col=4, thr=0.08757)\n",
      "│   │       ├── Node('/node: col:22 thr:105.9/node: col:27 thr:0.1342/node: col:13 thr:48.84/node: col:4 thr:0.08757/leaf:1', cancer_type=1)\n",
      "│   │       └── Node('/node: col:22 thr:105.9/node: col:27 thr:0.1342/node: col:13 thr:48.84/node: col:4 thr:0.08757/leaf:0', cancer_type=0)\n",
      "│   └── Node('/node: col:22 thr:105.9/node: col:27 thr:0.1342/node: col:21 thr:27.2', col=21, thr=27.2)\n",
      "│       ├── Node('/node: col:22 thr:105.9/node: col:27 thr:0.1342/node: col:21 thr:27.2/node: col:28 thr:0.3527', col=28, thr=0.3527)\n",
      "│       │   ├── Node('/node: col:22 thr:105.9/node: col:27 thr:0.1342/node: col:21 thr:27.2/node: col:28 thr:0.3527/leaf:1', cancer_type=1)\n",
      "│       │   └── Node('/node: col:22 thr:105.9/node: col:27 thr:0.1342/node: col:21 thr:27.2/node: col:28 thr:0.3527/node: col:0 thr:9.029', col=0, thr=9.029)\n",
      "│       │       ├── Node('/node: col:22 thr:105.9/node: col:27 thr:0.1342/node: col:21 thr:27.2/node: col:28 thr:0.3527/node: col:0 thr:9.029/leaf:1', cancer_type=1)\n",
      "│       │       └── Node('/node: col:22 thr:105.9/node: col:27 thr:0.1342/node: col:21 thr:27.2/node: col:28 thr:0.3527/node: col:0 thr:9.029/leaf:0', cancer_type=0)\n",
      "│       └── Node('/node: col:22 thr:105.9/node: col:27 thr:0.1342/node: col:21 thr:27.2/leaf:0', cancer_type=0)\n",
      "└── Node('/node: col:22 thr:105.9/node: col:22 thr:117.2', col=22, thr=117.2)\n",
      "    ├── Node('/node: col:22 thr:105.9/node: col:22 thr:117.2/node: col:24 thr:0.1354', col=24, thr=0.1354)\n",
      "    │   ├── Node('/node: col:22 thr:105.9/node: col:22 thr:117.2/node: col:24 thr:0.1354/node: col:21 thr:25.5', col=21, thr=25.5)\n",
      "    │   │   ├── Node('/node: col:22 thr:105.9/node: col:22 thr:117.2/node: col:24 thr:0.1354/node: col:21 thr:25.5/leaf:1', cancer_type=1)\n",
      "    │   │   └── Node('/node: col:22 thr:105.9/node: col:22 thr:117.2/node: col:24 thr:0.1354/node: col:21 thr:25.5/node: col:0 thr:14.99', col=0, thr=14.99)\n",
      "    │   │       ├── Node('/node: col:22 thr:105.9/node: col:22 thr:117.2/node: col:24 thr:0.1354/node: col:21 thr:25.5/node: col:0 thr:14.99/node: col:4 thr:0.08992', col=4, thr=0.08992)\n",
      "    │   │       │   ├── Node('/node: col:22 thr:105.9/node: col:22 thr:117.2/node: col:24 thr:0.1354/node: col:21 thr:25.5/node: col:0 thr:14.99/node: col:4 thr:0.08992/leaf:1', cancer_type=1)\n",
      "    │   │       │   └── Node('/node: col:22 thr:105.9/node: col:22 thr:117.2/node: col:24 thr:0.1354/node: col:21 thr:25.5/node: col:0 thr:14.99/node: col:4 thr:0.08992/leaf:0', cancer_type=0)\n",
      "    │   │       └── Node('/node: col:22 thr:105.9/node: col:22 thr:117.2/node: col:24 thr:0.1354/node: col:21 thr:25.5/node: col:0 thr:14.99/leaf:0', cancer_type=0)\n",
      "    │   └── Node('/node: col:22 thr:105.9/node: col:22 thr:117.2/node: col:24 thr:0.1354/node: col:1 thr:11.28', col=1, thr=11.28)\n",
      "    │       ├── Node('/node: col:22 thr:105.9/node: col:22 thr:117.2/node: col:24 thr:0.1354/node: col:1 thr:11.28/leaf:1', cancer_type=1)\n",
      "    │       └── Node('/node: col:22 thr:105.9/node: col:22 thr:117.2/node: col:24 thr:0.1354/node: col:1 thr:11.28/leaf:0', cancer_type=0)\n",
      "    └── Node('/node: col:22 thr:105.9/node: col:22 thr:117.2/node: col:19 thr:0.001519', col=19, thr=0.001519)\n",
      "        ├── Node('/node: col:22 thr:105.9/node: col:22 thr:117.2/node: col:19 thr:0.001519/node: col:0 thr:17.85', col=0, thr=17.85)\n",
      "        │   ├── Node('/node: col:22 thr:105.9/node: col:22 thr:117.2/node: col:19 thr:0.001519/node: col:0 thr:17.85/leaf:1', cancer_type=1)\n",
      "        │   └── Node('/node: col:22 thr:105.9/node: col:22 thr:117.2/node: col:19 thr:0.001519/node: col:0 thr:17.85/leaf:0', cancer_type=0)\n",
      "        └── Node('/node: col:22 thr:105.9/node: col:22 thr:117.2/node: col:19 thr:0.001519/leaf:0', cancer_type=0)\n"
     ]
    }
   ],
   "source": [
    "print(RenderTree(node))"
   ]
  },
  {
   "cell_type": "code",
   "execution_count": 267,
   "metadata": {},
   "outputs": [],
   "source": [
    "from anytree.dotexport import RenderTreeGraph\n",
    "RenderTreeGraph(root).to_picture(\"tree.png\")"
   ]
  },
  {
   "cell_type": "markdown",
   "metadata": {},
   "source": [
    "## 4 - Split the data "
   ]
  },
  {
   "cell_type": "code",
   "execution_count": 274,
   "metadata": {},
   "outputs": [],
   "source": [
    "X_train, X_test, y_train, y_test = train_test_split(df.iloc[:,:-1], df['cancer_type'], random_state=3, test_size=0.2)"
   ]
  },
  {
   "cell_type": "markdown",
   "metadata": {},
   "source": [
    "## 5 - train on training set and test on testing set"
   ]
  },
  {
   "cell_type": "code",
   "execution_count": 279,
   "metadata": {},
   "outputs": [],
   "source": [
    "# zip data of x and y together\n",
    "X_train['cancer_type'] = y_train"
   ]
  },
  {
   "cell_type": "code",
   "execution_count": 280,
   "metadata": {},
   "outputs": [
    {
     "name": "stdout",
     "output_type": "stream",
     "text": [
      "single_entropy(df) 0.9566330196351057 df.size (455, 31)\n",
      "single_entropy(df) 0.5246864085170728 df.size (321, 31)\n",
      "single_entropy(df) 0.2811937964320427 df.size (287, 31)\n",
      "single_entropy(df) 0.11327430349709672 df.size (264, 31)\n",
      "single_entropy(df) 0.06486635476598611 df.size (261, 31)\n",
      "single_entropy(df) 0 df.size (244, 31)\n",
      "single_entropy(df) 0.5225593745369408 df.size (17, 31)\n",
      "single_entropy(df) 0 df.size (2, 31)\n",
      "single_entropy(df) 0 df.size (15, 31)\n",
      "single_entropy(df) 0.9182958340544896 df.size (3, 31)\n",
      "single_entropy(df) 0 df.size (2, 31)\n",
      "single_entropy(df) 0 df.size (1, 31)\n",
      "single_entropy(df) 0.9876925088958034 df.size (23, 31)\n",
      "single_entropy(df) 0.7871265862012691 df.size (17, 31)\n",
      "single_entropy(df) 0.9182958340544896 df.size (6, 31)\n",
      "single_entropy(df) 0 df.size (2, 31)\n",
      "single_entropy(df) 0 df.size (4, 31)\n",
      "single_entropy(df) 0 df.size (11, 31)\n",
      "single_entropy(df) 0 df.size (6, 31)\n",
      "single_entropy(df) 0.8739810481273578 df.size (34, 31)\n",
      "single_entropy(df) 0.954434002924965 df.size (16, 31)\n",
      "single_entropy(df) 0 df.size (9, 31)\n",
      "single_entropy(df) 0.5916727785823275 df.size (7, 31)\n",
      "single_entropy(df) 0 df.size (1, 31)\n",
      "single_entropy(df) 0 df.size (6, 31)\n",
      "single_entropy(df) 0 df.size (18, 31)\n",
      "single_entropy(df) 0 df.size (134, 31)\n"
     ]
    }
   ],
   "source": [
    "node_train = create_decision_tree(X_train)"
   ]
  },
  {
   "cell_type": "code",
   "execution_count": 283,
   "metadata": {},
   "outputs": [
    {
     "name": "stdout",
     "output_type": "stream",
     "text": [
      "Node('/node: col:22 thr:117.2', col=22, thr=117.2)\n",
      "├── Node('/node: col:22 thr:117.2/node: col:27 thr:0.1423', col=27, thr=0.1423)\n",
      "│   ├── Node('/node: col:22 thr:117.2/node: col:27 thr:0.1423/node: col:13 thr:35.13', col=13, thr=35.13)\n",
      "│   │   ├── Node('/node: col:22 thr:117.2/node: col:27 thr:0.1423/node: col:13 thr:35.13/node: col:20 thr:17.71', col=20, thr=17.71)\n",
      "│   │   │   ├── Node('/node: col:22 thr:117.2/node: col:27 thr:0.1423/node: col:13 thr:35.13/node: col:20 thr:17.71/node: col:21 thr:33.17', col=21, thr=33.17)\n",
      "│   │   │   │   ├── Node('/node: col:22 thr:117.2/node: col:27 thr:0.1423/node: col:13 thr:35.13/node: col:20 thr:17.71/node: col:21 thr:33.17/leaf:1', cancer_type=1)\n",
      "│   │   │   │   └── Node('/node: col:22 thr:117.2/node: col:27 thr:0.1423/node: col:13 thr:35.13/node: col:20 thr:17.71/node: col:21 thr:33.17/node: col:1 thr:22.55', col=1, thr=22.55)\n",
      "│   │   │   │       ├── Node('/node: col:22 thr:117.2/node: col:27 thr:0.1423/node: col:13 thr:35.13/node: col:20 thr:17.71/node: col:21 thr:33.17/node: col:1 thr:22.55/leaf:0', cancer_type=0)\n",
      "│   │   │   │       └── Node('/node: col:22 thr:117.2/node: col:27 thr:0.1423/node: col:13 thr:35.13/node: col:20 thr:17.71/node: col:21 thr:33.17/node: col:1 thr:22.55/leaf:1', cancer_type=1)\n",
      "│   │   │   └── Node('/node: col:22 thr:117.2/node: col:27 thr:0.1423/node: col:13 thr:35.13/node: col:20 thr:17.71/node: col:0 thr:15.61', col=0, thr=15.61)\n",
      "│   │   │       ├── Node('/node: col:22 thr:117.2/node: col:27 thr:0.1423/node: col:13 thr:35.13/node: col:20 thr:17.71/node: col:0 thr:15.61/leaf:0', cancer_type=0)\n",
      "│   │   │       └── Node('/node: col:22 thr:117.2/node: col:27 thr:0.1423/node: col:13 thr:35.13/node: col:20 thr:17.71/node: col:0 thr:15.61/leaf:1', cancer_type=1)\n",
      "│   │   └── Node('/node: col:22 thr:117.2/node: col:27 thr:0.1423/node: col:13 thr:35.13/node: col:1 thr:21.41', col=1, thr=21.41)\n",
      "│   │       ├── Node('/node: col:22 thr:117.2/node: col:27 thr:0.1423/node: col:13 thr:35.13/node: col:1 thr:21.41/node: col:18 thr:0.02062', col=18, thr=0.02062)\n",
      "│   │       │   ├── Node('/node: col:22 thr:117.2/node: col:27 thr:0.1423/node: col:13 thr:35.13/node: col:1 thr:21.41/node: col:18 thr:0.02062/node: col:1 thr:14.76', col=1, thr=14.76)\n",
      "│   │       │   │   ├── Node('/node: col:22 thr:117.2/node: col:27 thr:0.1423/node: col:13 thr:35.13/node: col:1 thr:21.41/node: col:18 thr:0.02062/node: col:1 thr:14.76/leaf:1', cancer_type=1)\n",
      "│   │       │   │   └── Node('/node: col:22 thr:117.2/node: col:27 thr:0.1423/node: col:13 thr:35.13/node: col:1 thr:21.41/node: col:18 thr:0.02062/node: col:1 thr:14.76/leaf:0', cancer_type=0)\n",
      "│   │       │   └── Node('/node: col:22 thr:117.2/node: col:27 thr:0.1423/node: col:13 thr:35.13/node: col:1 thr:21.41/node: col:18 thr:0.02062/leaf:1', cancer_type=1)\n",
      "│   │       └── Node('/node: col:22 thr:117.2/node: col:27 thr:0.1423/node: col:13 thr:35.13/node: col:1 thr:21.41/leaf:0', cancer_type=0)\n",
      "│   └── Node('/node: col:22 thr:117.2/node: col:27 thr:0.1423/node: col:21 thr:27.2', col=21, thr=27.2)\n",
      "│       ├── Node('/node: col:22 thr:117.2/node: col:27 thr:0.1423/node: col:21 thr:27.2/node: col:27 thr:0.1599', col=27, thr=0.1599)\n",
      "│       │   ├── Node('/node: col:22 thr:117.2/node: col:27 thr:0.1423/node: col:21 thr:27.2/node: col:27 thr:0.1599/leaf:1', cancer_type=1)\n",
      "│       │   └── Node('/node: col:22 thr:117.2/node: col:27 thr:0.1423/node: col:21 thr:27.2/node: col:27 thr:0.1599/node: col:0 thr:9.029', col=0, thr=9.029)\n",
      "│       │       ├── Node('/node: col:22 thr:117.2/node: col:27 thr:0.1423/node: col:21 thr:27.2/node: col:27 thr:0.1599/node: col:0 thr:9.029/leaf:1', cancer_type=1)\n",
      "│       │       └── Node('/node: col:22 thr:117.2/node: col:27 thr:0.1423/node: col:21 thr:27.2/node: col:27 thr:0.1599/node: col:0 thr:9.029/leaf:0', cancer_type=0)\n",
      "│       └── Node('/node: col:22 thr:117.2/node: col:27 thr:0.1423/node: col:21 thr:27.2/leaf:0', cancer_type=0)\n",
      "└── Node('/node: col:22 thr:117.2/leaf:0', cancer_type=0)\n"
     ]
    }
   ],
   "source": [
    "print(RenderTree(node_train))"
   ]
  },
  {
   "cell_type": "code",
   "execution_count": 288,
   "metadata": {},
   "outputs": [
    {
     "ename": "FileNotFoundError",
     "evalue": "[Errno 2] No such file or directory: 'dot': 'dot'",
     "output_type": "error",
     "traceback": [
      "\u001b[0;31m---------------------------------------------------------------------------\u001b[0m",
      "\u001b[0;31mFileNotFoundError\u001b[0m                         Traceback (most recent call last)",
      "\u001b[0;32m<ipython-input-288-9f0bf6b2b876>\u001b[0m in \u001b[0;36m<module>\u001b[0;34m()\u001b[0m\n\u001b[1;32m      1\u001b[0m \u001b[0;32mfrom\u001b[0m \u001b[0manytree\u001b[0m\u001b[0;34m.\u001b[0m\u001b[0mdotexport\u001b[0m \u001b[0;32mimport\u001b[0m \u001b[0mRenderTreeGraph\u001b[0m\u001b[0;34m\u001b[0m\u001b[0m\n\u001b[0;32m----> 2\u001b[0;31m \u001b[0mRenderTreeGraph\u001b[0m\u001b[0;34m(\u001b[0m\u001b[0mnode_train\u001b[0m\u001b[0;34m)\u001b[0m\u001b[0;34m.\u001b[0m\u001b[0mto_picture\u001b[0m\u001b[0;34m(\u001b[0m\u001b[0;34m\"tree.png\"\u001b[0m\u001b[0;34m)\u001b[0m\u001b[0;34m\u001b[0m\u001b[0m\n\u001b[0m",
      "\u001b[0;32m/Library/Frameworks/Python.framework/Versions/3.6/lib/python3.6/site-packages/anytree/exporter/dotexporter.py\u001b[0m in \u001b[0;36mto_picture\u001b[0;34m(self, filename)\u001b[0m\n\u001b[1;32m    227\u001b[0m             \u001b[0mdotfile\u001b[0m\u001b[0;34m.\u001b[0m\u001b[0mflush\u001b[0m\u001b[0;34m(\u001b[0m\u001b[0;34m)\u001b[0m\u001b[0;34m\u001b[0m\u001b[0m\n\u001b[1;32m    228\u001b[0m             \u001b[0mcmd\u001b[0m \u001b[0;34m=\u001b[0m \u001b[0;34m[\u001b[0m\u001b[0;34m\"dot\"\u001b[0m\u001b[0;34m,\u001b[0m \u001b[0mdotfile\u001b[0m\u001b[0;34m.\u001b[0m\u001b[0mname\u001b[0m\u001b[0;34m,\u001b[0m \u001b[0;34m\"-T\"\u001b[0m\u001b[0;34m,\u001b[0m \u001b[0mfileformat\u001b[0m\u001b[0;34m,\u001b[0m \u001b[0;34m\"-o\"\u001b[0m\u001b[0;34m,\u001b[0m \u001b[0mfilename\u001b[0m\u001b[0;34m]\u001b[0m\u001b[0;34m\u001b[0m\u001b[0m\n\u001b[0;32m--> 229\u001b[0;31m             \u001b[0mcheck_call\u001b[0m\u001b[0;34m(\u001b[0m\u001b[0mcmd\u001b[0m\u001b[0;34m)\u001b[0m\u001b[0;34m\u001b[0m\u001b[0m\n\u001b[0m",
      "\u001b[0;32m/Library/Frameworks/Python.framework/Versions/3.6/lib/python3.6/subprocess.py\u001b[0m in \u001b[0;36mcheck_call\u001b[0;34m(*popenargs, **kwargs)\u001b[0m\n\u001b[1;32m    284\u001b[0m     \u001b[0mcheck_call\u001b[0m\u001b[0;34m(\u001b[0m\u001b[0;34m[\u001b[0m\u001b[0;34m\"ls\"\u001b[0m\u001b[0;34m,\u001b[0m \u001b[0;34m\"-l\"\u001b[0m\u001b[0;34m]\u001b[0m\u001b[0;34m)\u001b[0m\u001b[0;34m\u001b[0m\u001b[0m\n\u001b[1;32m    285\u001b[0m     \"\"\"\n\u001b[0;32m--> 286\u001b[0;31m     \u001b[0mretcode\u001b[0m \u001b[0;34m=\u001b[0m \u001b[0mcall\u001b[0m\u001b[0;34m(\u001b[0m\u001b[0;34m*\u001b[0m\u001b[0mpopenargs\u001b[0m\u001b[0;34m,\u001b[0m \u001b[0;34m**\u001b[0m\u001b[0mkwargs\u001b[0m\u001b[0;34m)\u001b[0m\u001b[0;34m\u001b[0m\u001b[0m\n\u001b[0m\u001b[1;32m    287\u001b[0m     \u001b[0;32mif\u001b[0m \u001b[0mretcode\u001b[0m\u001b[0;34m:\u001b[0m\u001b[0;34m\u001b[0m\u001b[0m\n\u001b[1;32m    288\u001b[0m         \u001b[0mcmd\u001b[0m \u001b[0;34m=\u001b[0m \u001b[0mkwargs\u001b[0m\u001b[0;34m.\u001b[0m\u001b[0mget\u001b[0m\u001b[0;34m(\u001b[0m\u001b[0;34m\"args\"\u001b[0m\u001b[0;34m)\u001b[0m\u001b[0;34m\u001b[0m\u001b[0m\n",
      "\u001b[0;32m/Library/Frameworks/Python.framework/Versions/3.6/lib/python3.6/subprocess.py\u001b[0m in \u001b[0;36mcall\u001b[0;34m(timeout, *popenargs, **kwargs)\u001b[0m\n\u001b[1;32m    265\u001b[0m     \u001b[0mretcode\u001b[0m \u001b[0;34m=\u001b[0m \u001b[0mcall\u001b[0m\u001b[0;34m(\u001b[0m\u001b[0;34m[\u001b[0m\u001b[0;34m\"ls\"\u001b[0m\u001b[0;34m,\u001b[0m \u001b[0;34m\"-l\"\u001b[0m\u001b[0;34m]\u001b[0m\u001b[0;34m)\u001b[0m\u001b[0;34m\u001b[0m\u001b[0m\n\u001b[1;32m    266\u001b[0m     \"\"\"\n\u001b[0;32m--> 267\u001b[0;31m     \u001b[0;32mwith\u001b[0m \u001b[0mPopen\u001b[0m\u001b[0;34m(\u001b[0m\u001b[0;34m*\u001b[0m\u001b[0mpopenargs\u001b[0m\u001b[0;34m,\u001b[0m \u001b[0;34m**\u001b[0m\u001b[0mkwargs\u001b[0m\u001b[0;34m)\u001b[0m \u001b[0;32mas\u001b[0m \u001b[0mp\u001b[0m\u001b[0;34m:\u001b[0m\u001b[0;34m\u001b[0m\u001b[0m\n\u001b[0m\u001b[1;32m    268\u001b[0m         \u001b[0;32mtry\u001b[0m\u001b[0;34m:\u001b[0m\u001b[0;34m\u001b[0m\u001b[0m\n\u001b[1;32m    269\u001b[0m             \u001b[0;32mreturn\u001b[0m \u001b[0mp\u001b[0m\u001b[0;34m.\u001b[0m\u001b[0mwait\u001b[0m\u001b[0;34m(\u001b[0m\u001b[0mtimeout\u001b[0m\u001b[0;34m=\u001b[0m\u001b[0mtimeout\u001b[0m\u001b[0;34m)\u001b[0m\u001b[0;34m\u001b[0m\u001b[0m\n",
      "\u001b[0;32m/Library/Frameworks/Python.framework/Versions/3.6/lib/python3.6/subprocess.py\u001b[0m in \u001b[0;36m__init__\u001b[0;34m(self, args, bufsize, executable, stdin, stdout, stderr, preexec_fn, close_fds, shell, cwd, env, universal_newlines, startupinfo, creationflags, restore_signals, start_new_session, pass_fds, encoding, errors)\u001b[0m\n\u001b[1;32m    707\u001b[0m                                 \u001b[0mc2pread\u001b[0m\u001b[0;34m,\u001b[0m \u001b[0mc2pwrite\u001b[0m\u001b[0;34m,\u001b[0m\u001b[0;34m\u001b[0m\u001b[0m\n\u001b[1;32m    708\u001b[0m                                 \u001b[0merrread\u001b[0m\u001b[0;34m,\u001b[0m \u001b[0merrwrite\u001b[0m\u001b[0;34m,\u001b[0m\u001b[0;34m\u001b[0m\u001b[0m\n\u001b[0;32m--> 709\u001b[0;31m                                 restore_signals, start_new_session)\n\u001b[0m\u001b[1;32m    710\u001b[0m         \u001b[0;32mexcept\u001b[0m\u001b[0;34m:\u001b[0m\u001b[0;34m\u001b[0m\u001b[0m\n\u001b[1;32m    711\u001b[0m             \u001b[0;31m# Cleanup if the child failed starting.\u001b[0m\u001b[0;34m\u001b[0m\u001b[0;34m\u001b[0m\u001b[0m\n",
      "\u001b[0;32m/Library/Frameworks/Python.framework/Versions/3.6/lib/python3.6/subprocess.py\u001b[0m in \u001b[0;36m_execute_child\u001b[0;34m(self, args, executable, preexec_fn, close_fds, pass_fds, cwd, env, startupinfo, creationflags, shell, p2cread, p2cwrite, c2pread, c2pwrite, errread, errwrite, restore_signals, start_new_session)\u001b[0m\n\u001b[1;32m   1342\u001b[0m                         \u001b[0;32mif\u001b[0m \u001b[0merrno_num\u001b[0m \u001b[0;34m==\u001b[0m \u001b[0merrno\u001b[0m\u001b[0;34m.\u001b[0m\u001b[0mENOENT\u001b[0m\u001b[0;34m:\u001b[0m\u001b[0;34m\u001b[0m\u001b[0m\n\u001b[1;32m   1343\u001b[0m                             \u001b[0merr_msg\u001b[0m \u001b[0;34m+=\u001b[0m \u001b[0;34m': '\u001b[0m \u001b[0;34m+\u001b[0m \u001b[0mrepr\u001b[0m\u001b[0;34m(\u001b[0m\u001b[0merr_filename\u001b[0m\u001b[0;34m)\u001b[0m\u001b[0;34m\u001b[0m\u001b[0m\n\u001b[0;32m-> 1344\u001b[0;31m                     \u001b[0;32mraise\u001b[0m \u001b[0mchild_exception_type\u001b[0m\u001b[0;34m(\u001b[0m\u001b[0merrno_num\u001b[0m\u001b[0;34m,\u001b[0m \u001b[0merr_msg\u001b[0m\u001b[0;34m,\u001b[0m \u001b[0merr_filename\u001b[0m\u001b[0;34m)\u001b[0m\u001b[0;34m\u001b[0m\u001b[0m\n\u001b[0m\u001b[1;32m   1345\u001b[0m                 \u001b[0;32mraise\u001b[0m \u001b[0mchild_exception_type\u001b[0m\u001b[0;34m(\u001b[0m\u001b[0merr_msg\u001b[0m\u001b[0;34m)\u001b[0m\u001b[0;34m\u001b[0m\u001b[0m\n\u001b[1;32m   1346\u001b[0m \u001b[0;34m\u001b[0m\u001b[0m\n",
      "\u001b[0;31mFileNotFoundError\u001b[0m: [Errno 2] No such file or directory: 'dot': 'dot'"
     ]
    }
   ],
   "source": [
    "from anytree.dotexport import RenderTreeGraph\n",
    "RenderTreeGraph(node_train).to_picture(\"tree.png\")"
   ]
  },
  {
   "cell_type": "code",
   "execution_count": 287,
   "metadata": {},
   "outputs": [
    {
     "ename": "FileNotFoundError",
     "evalue": "[Errno 2] No such file or directory: 'dot': 'dot'",
     "output_type": "error",
     "traceback": [
      "\u001b[0;31m---------------------------------------------------------------------------\u001b[0m",
      "\u001b[0;31mFileNotFoundError\u001b[0m                         Traceback (most recent call last)",
      "\u001b[0;32m<ipython-input-287-7b87dc43f980>\u001b[0m in \u001b[0;36m<module>\u001b[0;34m()\u001b[0m\n\u001b[1;32m      1\u001b[0m \u001b[0;32mfrom\u001b[0m \u001b[0manytree\u001b[0m\u001b[0;34m.\u001b[0m\u001b[0mexporter\u001b[0m \u001b[0;32mimport\u001b[0m \u001b[0mDotExporter\u001b[0m\u001b[0;34m\u001b[0m\u001b[0m\n\u001b[0;32m----> 2\u001b[0;31m \u001b[0mDotExporter\u001b[0m\u001b[0;34m(\u001b[0m\u001b[0mnode_train\u001b[0m\u001b[0;34m)\u001b[0m\u001b[0;34m.\u001b[0m\u001b[0mto_picture\u001b[0m\u001b[0;34m(\u001b[0m\u001b[0;34m\"tree.png\"\u001b[0m\u001b[0;34m)\u001b[0m\u001b[0;34m\u001b[0m\u001b[0m\n\u001b[0m",
      "\u001b[0;32m/Library/Frameworks/Python.framework/Versions/3.6/lib/python3.6/site-packages/anytree/exporter/dotexporter.py\u001b[0m in \u001b[0;36mto_picture\u001b[0;34m(self, filename)\u001b[0m\n\u001b[1;32m    227\u001b[0m             \u001b[0mdotfile\u001b[0m\u001b[0;34m.\u001b[0m\u001b[0mflush\u001b[0m\u001b[0;34m(\u001b[0m\u001b[0;34m)\u001b[0m\u001b[0;34m\u001b[0m\u001b[0m\n\u001b[1;32m    228\u001b[0m             \u001b[0mcmd\u001b[0m \u001b[0;34m=\u001b[0m \u001b[0;34m[\u001b[0m\u001b[0;34m\"dot\"\u001b[0m\u001b[0;34m,\u001b[0m \u001b[0mdotfile\u001b[0m\u001b[0;34m.\u001b[0m\u001b[0mname\u001b[0m\u001b[0;34m,\u001b[0m \u001b[0;34m\"-T\"\u001b[0m\u001b[0;34m,\u001b[0m \u001b[0mfileformat\u001b[0m\u001b[0;34m,\u001b[0m \u001b[0;34m\"-o\"\u001b[0m\u001b[0;34m,\u001b[0m \u001b[0mfilename\u001b[0m\u001b[0;34m]\u001b[0m\u001b[0;34m\u001b[0m\u001b[0m\n\u001b[0;32m--> 229\u001b[0;31m             \u001b[0mcheck_call\u001b[0m\u001b[0;34m(\u001b[0m\u001b[0mcmd\u001b[0m\u001b[0;34m)\u001b[0m\u001b[0;34m\u001b[0m\u001b[0m\n\u001b[0m",
      "\u001b[0;32m/Library/Frameworks/Python.framework/Versions/3.6/lib/python3.6/subprocess.py\u001b[0m in \u001b[0;36mcheck_call\u001b[0;34m(*popenargs, **kwargs)\u001b[0m\n\u001b[1;32m    284\u001b[0m     \u001b[0mcheck_call\u001b[0m\u001b[0;34m(\u001b[0m\u001b[0;34m[\u001b[0m\u001b[0;34m\"ls\"\u001b[0m\u001b[0;34m,\u001b[0m \u001b[0;34m\"-l\"\u001b[0m\u001b[0;34m]\u001b[0m\u001b[0;34m)\u001b[0m\u001b[0;34m\u001b[0m\u001b[0m\n\u001b[1;32m    285\u001b[0m     \"\"\"\n\u001b[0;32m--> 286\u001b[0;31m     \u001b[0mretcode\u001b[0m \u001b[0;34m=\u001b[0m \u001b[0mcall\u001b[0m\u001b[0;34m(\u001b[0m\u001b[0;34m*\u001b[0m\u001b[0mpopenargs\u001b[0m\u001b[0;34m,\u001b[0m \u001b[0;34m**\u001b[0m\u001b[0mkwargs\u001b[0m\u001b[0;34m)\u001b[0m\u001b[0;34m\u001b[0m\u001b[0m\n\u001b[0m\u001b[1;32m    287\u001b[0m     \u001b[0;32mif\u001b[0m \u001b[0mretcode\u001b[0m\u001b[0;34m:\u001b[0m\u001b[0;34m\u001b[0m\u001b[0m\n\u001b[1;32m    288\u001b[0m         \u001b[0mcmd\u001b[0m \u001b[0;34m=\u001b[0m \u001b[0mkwargs\u001b[0m\u001b[0;34m.\u001b[0m\u001b[0mget\u001b[0m\u001b[0;34m(\u001b[0m\u001b[0;34m\"args\"\u001b[0m\u001b[0;34m)\u001b[0m\u001b[0;34m\u001b[0m\u001b[0m\n",
      "\u001b[0;32m/Library/Frameworks/Python.framework/Versions/3.6/lib/python3.6/subprocess.py\u001b[0m in \u001b[0;36mcall\u001b[0;34m(timeout, *popenargs, **kwargs)\u001b[0m\n\u001b[1;32m    265\u001b[0m     \u001b[0mretcode\u001b[0m \u001b[0;34m=\u001b[0m \u001b[0mcall\u001b[0m\u001b[0;34m(\u001b[0m\u001b[0;34m[\u001b[0m\u001b[0;34m\"ls\"\u001b[0m\u001b[0;34m,\u001b[0m \u001b[0;34m\"-l\"\u001b[0m\u001b[0;34m]\u001b[0m\u001b[0;34m)\u001b[0m\u001b[0;34m\u001b[0m\u001b[0m\n\u001b[1;32m    266\u001b[0m     \"\"\"\n\u001b[0;32m--> 267\u001b[0;31m     \u001b[0;32mwith\u001b[0m \u001b[0mPopen\u001b[0m\u001b[0;34m(\u001b[0m\u001b[0;34m*\u001b[0m\u001b[0mpopenargs\u001b[0m\u001b[0;34m,\u001b[0m \u001b[0;34m**\u001b[0m\u001b[0mkwargs\u001b[0m\u001b[0;34m)\u001b[0m \u001b[0;32mas\u001b[0m \u001b[0mp\u001b[0m\u001b[0;34m:\u001b[0m\u001b[0;34m\u001b[0m\u001b[0m\n\u001b[0m\u001b[1;32m    268\u001b[0m         \u001b[0;32mtry\u001b[0m\u001b[0;34m:\u001b[0m\u001b[0;34m\u001b[0m\u001b[0m\n\u001b[1;32m    269\u001b[0m             \u001b[0;32mreturn\u001b[0m \u001b[0mp\u001b[0m\u001b[0;34m.\u001b[0m\u001b[0mwait\u001b[0m\u001b[0;34m(\u001b[0m\u001b[0mtimeout\u001b[0m\u001b[0;34m=\u001b[0m\u001b[0mtimeout\u001b[0m\u001b[0;34m)\u001b[0m\u001b[0;34m\u001b[0m\u001b[0m\n",
      "\u001b[0;32m/Library/Frameworks/Python.framework/Versions/3.6/lib/python3.6/subprocess.py\u001b[0m in \u001b[0;36m__init__\u001b[0;34m(self, args, bufsize, executable, stdin, stdout, stderr, preexec_fn, close_fds, shell, cwd, env, universal_newlines, startupinfo, creationflags, restore_signals, start_new_session, pass_fds, encoding, errors)\u001b[0m\n\u001b[1;32m    707\u001b[0m                                 \u001b[0mc2pread\u001b[0m\u001b[0;34m,\u001b[0m \u001b[0mc2pwrite\u001b[0m\u001b[0;34m,\u001b[0m\u001b[0;34m\u001b[0m\u001b[0m\n\u001b[1;32m    708\u001b[0m                                 \u001b[0merrread\u001b[0m\u001b[0;34m,\u001b[0m \u001b[0merrwrite\u001b[0m\u001b[0;34m,\u001b[0m\u001b[0;34m\u001b[0m\u001b[0m\n\u001b[0;32m--> 709\u001b[0;31m                                 restore_signals, start_new_session)\n\u001b[0m\u001b[1;32m    710\u001b[0m         \u001b[0;32mexcept\u001b[0m\u001b[0;34m:\u001b[0m\u001b[0;34m\u001b[0m\u001b[0m\n\u001b[1;32m    711\u001b[0m             \u001b[0;31m# Cleanup if the child failed starting.\u001b[0m\u001b[0;34m\u001b[0m\u001b[0;34m\u001b[0m\u001b[0m\n",
      "\u001b[0;32m/Library/Frameworks/Python.framework/Versions/3.6/lib/python3.6/subprocess.py\u001b[0m in \u001b[0;36m_execute_child\u001b[0;34m(self, args, executable, preexec_fn, close_fds, pass_fds, cwd, env, startupinfo, creationflags, shell, p2cread, p2cwrite, c2pread, c2pwrite, errread, errwrite, restore_signals, start_new_session)\u001b[0m\n\u001b[1;32m   1342\u001b[0m                         \u001b[0;32mif\u001b[0m \u001b[0merrno_num\u001b[0m \u001b[0;34m==\u001b[0m \u001b[0merrno\u001b[0m\u001b[0;34m.\u001b[0m\u001b[0mENOENT\u001b[0m\u001b[0;34m:\u001b[0m\u001b[0;34m\u001b[0m\u001b[0m\n\u001b[1;32m   1343\u001b[0m                             \u001b[0merr_msg\u001b[0m \u001b[0;34m+=\u001b[0m \u001b[0;34m': '\u001b[0m \u001b[0;34m+\u001b[0m \u001b[0mrepr\u001b[0m\u001b[0;34m(\u001b[0m\u001b[0merr_filename\u001b[0m\u001b[0;34m)\u001b[0m\u001b[0;34m\u001b[0m\u001b[0m\n\u001b[0;32m-> 1344\u001b[0;31m                     \u001b[0;32mraise\u001b[0m \u001b[0mchild_exception_type\u001b[0m\u001b[0;34m(\u001b[0m\u001b[0merrno_num\u001b[0m\u001b[0;34m,\u001b[0m \u001b[0merr_msg\u001b[0m\u001b[0;34m,\u001b[0m \u001b[0merr_filename\u001b[0m\u001b[0;34m)\u001b[0m\u001b[0;34m\u001b[0m\u001b[0m\n\u001b[0m\u001b[1;32m   1345\u001b[0m                 \u001b[0;32mraise\u001b[0m \u001b[0mchild_exception_type\u001b[0m\u001b[0;34m(\u001b[0m\u001b[0merr_msg\u001b[0m\u001b[0;34m)\u001b[0m\u001b[0;34m\u001b[0m\u001b[0m\n\u001b[1;32m   1346\u001b[0m \u001b[0;34m\u001b[0m\u001b[0m\n",
      "\u001b[0;31mFileNotFoundError\u001b[0m: [Errno 2] No such file or directory: 'dot': 'dot'"
     ]
    }
   ],
   "source": [
    "from anytree.exporter import DotExporter\n",
    "DotExporter(node_train).to_picture(\"tree.png\")"
   ]
  },
  {
   "cell_type": "code",
   "execution_count": 289,
   "metadata": {},
   "outputs": [],
   "source": [
    "import graphviz"
   ]
  },
  {
   "cell_type": "code",
   "execution_count": 290,
   "metadata": {},
   "outputs": [],
   "source": [
    "from sklearn import tree"
   ]
  },
  {
   "cell_type": "code",
   "execution_count": 291,
   "metadata": {},
   "outputs": [
    {
     "ename": "TypeError",
     "evalue": "Node('/node: col:22 thr:117.2', col=22, thr=117.2) is not an estimator instance.",
     "output_type": "error",
     "traceback": [
      "\u001b[0;31m---------------------------------------------------------------------------\u001b[0m",
      "\u001b[0;31mTypeError\u001b[0m                                 Traceback (most recent call last)",
      "\u001b[0;32m<ipython-input-291-7e253e78432f>\u001b[0m in \u001b[0;36m<module>\u001b[0;34m()\u001b[0m\n\u001b[0;32m----> 1\u001b[0;31m \u001b[0mdot_data\u001b[0m \u001b[0;34m=\u001b[0m \u001b[0mtree\u001b[0m\u001b[0;34m.\u001b[0m\u001b[0mexport_graphviz\u001b[0m\u001b[0;34m(\u001b[0m\u001b[0mnode_train\u001b[0m\u001b[0;34m,\u001b[0m\u001b[0mout_file\u001b[0m\u001b[0;34m=\u001b[0m\u001b[0;32mNone\u001b[0m\u001b[0;34m)\u001b[0m\u001b[0;34m\u001b[0m\u001b[0m\n\u001b[0m\u001b[1;32m      2\u001b[0m \u001b[0mgraph\u001b[0m \u001b[0;34m=\u001b[0m \u001b[0mgraphviz\u001b[0m\u001b[0;34m.\u001b[0m\u001b[0mSource\u001b[0m\u001b[0;34m(\u001b[0m\u001b[0mdot_data\u001b[0m\u001b[0;34m)\u001b[0m\u001b[0;34m\u001b[0m\u001b[0m\n",
      "\u001b[0;32m/Library/Frameworks/Python.framework/Versions/3.6/lib/python3.6/site-packages/sklearn/tree/export.py\u001b[0m in \u001b[0;36mexport_graphviz\u001b[0;34m(decision_tree, out_file, max_depth, feature_names, class_names, label, filled, leaves_parallel, impurity, node_ids, proportion, rotate, rounded, special_characters, precision)\u001b[0m\n\u001b[1;32m    390\u001b[0m                 \u001b[0mout_file\u001b[0m\u001b[0;34m.\u001b[0m\u001b[0mwrite\u001b[0m\u001b[0;34m(\u001b[0m\u001b[0;34m'%d -> %d ;\\n'\u001b[0m \u001b[0;34m%\u001b[0m \u001b[0;34m(\u001b[0m\u001b[0mparent\u001b[0m\u001b[0;34m,\u001b[0m \u001b[0mnode_id\u001b[0m\u001b[0;34m)\u001b[0m\u001b[0;34m)\u001b[0m\u001b[0;34m\u001b[0m\u001b[0m\n\u001b[1;32m    391\u001b[0m \u001b[0;34m\u001b[0m\u001b[0m\n\u001b[0;32m--> 392\u001b[0;31m     \u001b[0mcheck_is_fitted\u001b[0m\u001b[0;34m(\u001b[0m\u001b[0mdecision_tree\u001b[0m\u001b[0;34m,\u001b[0m \u001b[0;34m'tree_'\u001b[0m\u001b[0;34m)\u001b[0m\u001b[0;34m\u001b[0m\u001b[0m\n\u001b[0m\u001b[1;32m    393\u001b[0m     \u001b[0mown_file\u001b[0m \u001b[0;34m=\u001b[0m \u001b[0;32mFalse\u001b[0m\u001b[0;34m\u001b[0m\u001b[0m\n\u001b[1;32m    394\u001b[0m     \u001b[0mreturn_string\u001b[0m \u001b[0;34m=\u001b[0m \u001b[0;32mFalse\u001b[0m\u001b[0;34m\u001b[0m\u001b[0m\n",
      "\u001b[0;32m/Library/Frameworks/Python.framework/Versions/3.6/lib/python3.6/site-packages/sklearn/utils/validation.py\u001b[0m in \u001b[0;36mcheck_is_fitted\u001b[0;34m(estimator, attributes, msg, all_or_any)\u001b[0m\n\u001b[1;32m    760\u001b[0m \u001b[0;34m\u001b[0m\u001b[0m\n\u001b[1;32m    761\u001b[0m     \u001b[0;32mif\u001b[0m \u001b[0;32mnot\u001b[0m \u001b[0mhasattr\u001b[0m\u001b[0;34m(\u001b[0m\u001b[0mestimator\u001b[0m\u001b[0;34m,\u001b[0m \u001b[0;34m'fit'\u001b[0m\u001b[0;34m)\u001b[0m\u001b[0;34m:\u001b[0m\u001b[0;34m\u001b[0m\u001b[0m\n\u001b[0;32m--> 762\u001b[0;31m         \u001b[0;32mraise\u001b[0m \u001b[0mTypeError\u001b[0m\u001b[0;34m(\u001b[0m\u001b[0;34m\"%s is not an estimator instance.\"\u001b[0m \u001b[0;34m%\u001b[0m \u001b[0;34m(\u001b[0m\u001b[0mestimator\u001b[0m\u001b[0;34m)\u001b[0m\u001b[0;34m)\u001b[0m\u001b[0;34m\u001b[0m\u001b[0m\n\u001b[0m\u001b[1;32m    763\u001b[0m \u001b[0;34m\u001b[0m\u001b[0m\n\u001b[1;32m    764\u001b[0m     \u001b[0;32mif\u001b[0m \u001b[0;32mnot\u001b[0m \u001b[0misinstance\u001b[0m\u001b[0;34m(\u001b[0m\u001b[0mattributes\u001b[0m\u001b[0;34m,\u001b[0m \u001b[0;34m(\u001b[0m\u001b[0mlist\u001b[0m\u001b[0;34m,\u001b[0m \u001b[0mtuple\u001b[0m\u001b[0;34m)\u001b[0m\u001b[0;34m)\u001b[0m\u001b[0;34m:\u001b[0m\u001b[0;34m\u001b[0m\u001b[0m\n",
      "\u001b[0;31mTypeError\u001b[0m: Node('/node: col:22 thr:117.2', col=22, thr=117.2) is not an estimator instance."
     ]
    }
   ],
   "source": [
    "dot_data = tree.export_graphviz(node_train,out_file=None)\n",
    "graph = graphviz.Source(dot_data)"
   ]
  },
  {
   "cell_type": "code",
   "execution_count": 292,
   "metadata": {},
   "outputs": [],
   "source": [
    "from anytree import Node, RenderTree\n",
    "udo = Node(\"Udo\")\n",
    "marc = Node(\"Marc\", parent=udo)\n",
    "lian = Node(\"Lian\", parent=marc)\n",
    "dan = Node(\"Dan\", parent=udo)\n",
    "jet = Node(\"Jet\", parent=dan)\n",
    "jan = Node(\"Jan\", parent=dan)\n",
    "joe = Node(\"Joe\", parent=dan)"
   ]
  },
  {
   "cell_type": "code",
   "execution_count": 293,
   "metadata": {},
   "outputs": [
    {
     "ename": "FileNotFoundError",
     "evalue": "[Errno 2] No such file or directory: 'dot': 'dot'",
     "output_type": "error",
     "traceback": [
      "\u001b[0;31m---------------------------------------------------------------------------\u001b[0m",
      "\u001b[0;31mFileNotFoundError\u001b[0m                         Traceback (most recent call last)",
      "\u001b[0;32m<ipython-input-293-19b9a2f0d28f>\u001b[0m in \u001b[0;36m<module>\u001b[0;34m()\u001b[0m\n\u001b[1;32m      1\u001b[0m \u001b[0;32mfrom\u001b[0m \u001b[0manytree\u001b[0m\u001b[0;34m.\u001b[0m\u001b[0mexporter\u001b[0m \u001b[0;32mimport\u001b[0m \u001b[0mDotExporter\u001b[0m\u001b[0;34m\u001b[0m\u001b[0m\n\u001b[0;32m----> 2\u001b[0;31m \u001b[0mDotExporter\u001b[0m\u001b[0;34m(\u001b[0m\u001b[0mudo\u001b[0m\u001b[0;34m)\u001b[0m\u001b[0;34m.\u001b[0m\u001b[0mto_picture\u001b[0m\u001b[0;34m(\u001b[0m\u001b[0;34m\"udo.png\"\u001b[0m\u001b[0;34m)\u001b[0m\u001b[0;34m\u001b[0m\u001b[0m\n\u001b[0m",
      "\u001b[0;32m/Library/Frameworks/Python.framework/Versions/3.6/lib/python3.6/site-packages/anytree/exporter/dotexporter.py\u001b[0m in \u001b[0;36mto_picture\u001b[0;34m(self, filename)\u001b[0m\n\u001b[1;32m    227\u001b[0m             \u001b[0mdotfile\u001b[0m\u001b[0;34m.\u001b[0m\u001b[0mflush\u001b[0m\u001b[0;34m(\u001b[0m\u001b[0;34m)\u001b[0m\u001b[0;34m\u001b[0m\u001b[0m\n\u001b[1;32m    228\u001b[0m             \u001b[0mcmd\u001b[0m \u001b[0;34m=\u001b[0m \u001b[0;34m[\u001b[0m\u001b[0;34m\"dot\"\u001b[0m\u001b[0;34m,\u001b[0m \u001b[0mdotfile\u001b[0m\u001b[0;34m.\u001b[0m\u001b[0mname\u001b[0m\u001b[0;34m,\u001b[0m \u001b[0;34m\"-T\"\u001b[0m\u001b[0;34m,\u001b[0m \u001b[0mfileformat\u001b[0m\u001b[0;34m,\u001b[0m \u001b[0;34m\"-o\"\u001b[0m\u001b[0;34m,\u001b[0m \u001b[0mfilename\u001b[0m\u001b[0;34m]\u001b[0m\u001b[0;34m\u001b[0m\u001b[0m\n\u001b[0;32m--> 229\u001b[0;31m             \u001b[0mcheck_call\u001b[0m\u001b[0;34m(\u001b[0m\u001b[0mcmd\u001b[0m\u001b[0;34m)\u001b[0m\u001b[0;34m\u001b[0m\u001b[0m\n\u001b[0m",
      "\u001b[0;32m/Library/Frameworks/Python.framework/Versions/3.6/lib/python3.6/subprocess.py\u001b[0m in \u001b[0;36mcheck_call\u001b[0;34m(*popenargs, **kwargs)\u001b[0m\n\u001b[1;32m    284\u001b[0m     \u001b[0mcheck_call\u001b[0m\u001b[0;34m(\u001b[0m\u001b[0;34m[\u001b[0m\u001b[0;34m\"ls\"\u001b[0m\u001b[0;34m,\u001b[0m \u001b[0;34m\"-l\"\u001b[0m\u001b[0;34m]\u001b[0m\u001b[0;34m)\u001b[0m\u001b[0;34m\u001b[0m\u001b[0m\n\u001b[1;32m    285\u001b[0m     \"\"\"\n\u001b[0;32m--> 286\u001b[0;31m     \u001b[0mretcode\u001b[0m \u001b[0;34m=\u001b[0m \u001b[0mcall\u001b[0m\u001b[0;34m(\u001b[0m\u001b[0;34m*\u001b[0m\u001b[0mpopenargs\u001b[0m\u001b[0;34m,\u001b[0m \u001b[0;34m**\u001b[0m\u001b[0mkwargs\u001b[0m\u001b[0;34m)\u001b[0m\u001b[0;34m\u001b[0m\u001b[0m\n\u001b[0m\u001b[1;32m    287\u001b[0m     \u001b[0;32mif\u001b[0m \u001b[0mretcode\u001b[0m\u001b[0;34m:\u001b[0m\u001b[0;34m\u001b[0m\u001b[0m\n\u001b[1;32m    288\u001b[0m         \u001b[0mcmd\u001b[0m \u001b[0;34m=\u001b[0m \u001b[0mkwargs\u001b[0m\u001b[0;34m.\u001b[0m\u001b[0mget\u001b[0m\u001b[0;34m(\u001b[0m\u001b[0;34m\"args\"\u001b[0m\u001b[0;34m)\u001b[0m\u001b[0;34m\u001b[0m\u001b[0m\n",
      "\u001b[0;32m/Library/Frameworks/Python.framework/Versions/3.6/lib/python3.6/subprocess.py\u001b[0m in \u001b[0;36mcall\u001b[0;34m(timeout, *popenargs, **kwargs)\u001b[0m\n\u001b[1;32m    265\u001b[0m     \u001b[0mretcode\u001b[0m \u001b[0;34m=\u001b[0m \u001b[0mcall\u001b[0m\u001b[0;34m(\u001b[0m\u001b[0;34m[\u001b[0m\u001b[0;34m\"ls\"\u001b[0m\u001b[0;34m,\u001b[0m \u001b[0;34m\"-l\"\u001b[0m\u001b[0;34m]\u001b[0m\u001b[0;34m)\u001b[0m\u001b[0;34m\u001b[0m\u001b[0m\n\u001b[1;32m    266\u001b[0m     \"\"\"\n\u001b[0;32m--> 267\u001b[0;31m     \u001b[0;32mwith\u001b[0m \u001b[0mPopen\u001b[0m\u001b[0;34m(\u001b[0m\u001b[0;34m*\u001b[0m\u001b[0mpopenargs\u001b[0m\u001b[0;34m,\u001b[0m \u001b[0;34m**\u001b[0m\u001b[0mkwargs\u001b[0m\u001b[0;34m)\u001b[0m \u001b[0;32mas\u001b[0m \u001b[0mp\u001b[0m\u001b[0;34m:\u001b[0m\u001b[0;34m\u001b[0m\u001b[0m\n\u001b[0m\u001b[1;32m    268\u001b[0m         \u001b[0;32mtry\u001b[0m\u001b[0;34m:\u001b[0m\u001b[0;34m\u001b[0m\u001b[0m\n\u001b[1;32m    269\u001b[0m             \u001b[0;32mreturn\u001b[0m \u001b[0mp\u001b[0m\u001b[0;34m.\u001b[0m\u001b[0mwait\u001b[0m\u001b[0;34m(\u001b[0m\u001b[0mtimeout\u001b[0m\u001b[0;34m=\u001b[0m\u001b[0mtimeout\u001b[0m\u001b[0;34m)\u001b[0m\u001b[0;34m\u001b[0m\u001b[0m\n",
      "\u001b[0;32m/Library/Frameworks/Python.framework/Versions/3.6/lib/python3.6/subprocess.py\u001b[0m in \u001b[0;36m__init__\u001b[0;34m(self, args, bufsize, executable, stdin, stdout, stderr, preexec_fn, close_fds, shell, cwd, env, universal_newlines, startupinfo, creationflags, restore_signals, start_new_session, pass_fds, encoding, errors)\u001b[0m\n\u001b[1;32m    707\u001b[0m                                 \u001b[0mc2pread\u001b[0m\u001b[0;34m,\u001b[0m \u001b[0mc2pwrite\u001b[0m\u001b[0;34m,\u001b[0m\u001b[0;34m\u001b[0m\u001b[0m\n\u001b[1;32m    708\u001b[0m                                 \u001b[0merrread\u001b[0m\u001b[0;34m,\u001b[0m \u001b[0merrwrite\u001b[0m\u001b[0;34m,\u001b[0m\u001b[0;34m\u001b[0m\u001b[0m\n\u001b[0;32m--> 709\u001b[0;31m                                 restore_signals, start_new_session)\n\u001b[0m\u001b[1;32m    710\u001b[0m         \u001b[0;32mexcept\u001b[0m\u001b[0;34m:\u001b[0m\u001b[0;34m\u001b[0m\u001b[0m\n\u001b[1;32m    711\u001b[0m             \u001b[0;31m# Cleanup if the child failed starting.\u001b[0m\u001b[0;34m\u001b[0m\u001b[0;34m\u001b[0m\u001b[0m\n",
      "\u001b[0;32m/Library/Frameworks/Python.framework/Versions/3.6/lib/python3.6/subprocess.py\u001b[0m in \u001b[0;36m_execute_child\u001b[0;34m(self, args, executable, preexec_fn, close_fds, pass_fds, cwd, env, startupinfo, creationflags, shell, p2cread, p2cwrite, c2pread, c2pwrite, errread, errwrite, restore_signals, start_new_session)\u001b[0m\n\u001b[1;32m   1342\u001b[0m                         \u001b[0;32mif\u001b[0m \u001b[0merrno_num\u001b[0m \u001b[0;34m==\u001b[0m \u001b[0merrno\u001b[0m\u001b[0;34m.\u001b[0m\u001b[0mENOENT\u001b[0m\u001b[0;34m:\u001b[0m\u001b[0;34m\u001b[0m\u001b[0m\n\u001b[1;32m   1343\u001b[0m                             \u001b[0merr_msg\u001b[0m \u001b[0;34m+=\u001b[0m \u001b[0;34m': '\u001b[0m \u001b[0;34m+\u001b[0m \u001b[0mrepr\u001b[0m\u001b[0;34m(\u001b[0m\u001b[0merr_filename\u001b[0m\u001b[0;34m)\u001b[0m\u001b[0;34m\u001b[0m\u001b[0m\n\u001b[0;32m-> 1344\u001b[0;31m                     \u001b[0;32mraise\u001b[0m \u001b[0mchild_exception_type\u001b[0m\u001b[0;34m(\u001b[0m\u001b[0merrno_num\u001b[0m\u001b[0;34m,\u001b[0m \u001b[0merr_msg\u001b[0m\u001b[0;34m,\u001b[0m \u001b[0merr_filename\u001b[0m\u001b[0;34m)\u001b[0m\u001b[0;34m\u001b[0m\u001b[0m\n\u001b[0m\u001b[1;32m   1345\u001b[0m                 \u001b[0;32mraise\u001b[0m \u001b[0mchild_exception_type\u001b[0m\u001b[0;34m(\u001b[0m\u001b[0merr_msg\u001b[0m\u001b[0;34m)\u001b[0m\u001b[0;34m\u001b[0m\u001b[0m\n\u001b[1;32m   1346\u001b[0m \u001b[0;34m\u001b[0m\u001b[0m\n",
      "\u001b[0;31mFileNotFoundError\u001b[0m: [Errno 2] No such file or directory: 'dot': 'dot'"
     ]
    }
   ],
   "source": [
    "from anytree.exporter import DotExporter\n",
    "DotExporter(udo).to_picture(\"udo.png\")"
   ]
  },
  {
   "cell_type": "code",
   "execution_count": null,
   "metadata": {},
   "outputs": [],
   "source": []
  }
 ],
 "metadata": {
  "kernelspec": {
   "display_name": "Python 3",
   "language": "python",
   "name": "python3"
  },
  "language_info": {
   "codemirror_mode": {
    "name": "ipython",
    "version": 3
   },
   "file_extension": ".py",
   "mimetype": "text/x-python",
   "name": "python",
   "nbconvert_exporter": "python",
   "pygments_lexer": "ipython3",
   "version": "3.6.4"
  }
 },
 "nbformat": 4,
 "nbformat_minor": 2
}
