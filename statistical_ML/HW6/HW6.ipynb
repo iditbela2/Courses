{
 "cells": [
  {
   "cell_type": "markdown",
   "metadata": {},
   "source": [
    "# Q1 - PCA"
   ]
  },
  {
   "cell_type": "markdown",
   "metadata": {},
   "source": [
    "## a"
   ]
  },
  {
   "cell_type": "markdown",
   "metadata": {},
   "source": [
    "Since we want to find the Eigenvector (\"u\") which maximizes the variance of the projections of X on the Eigenvector, we want to find the following optimization problem:"
   ]
  },
  {
   "cell_type": "markdown",
   "metadata": {},
   "source": [
    "$\\underset{u}{\\operatorname{argmax}} \\space \\frac{1}{m}\\sum_{i=1}^{m}(\\sum_{j=1}^{d}X_{ij}u_j - \\mu)^2 = \\space \\frac{1}{m}\\sum_{i=1}^{m}(\\sum_{j=1}^{d}X_{ij}u_j)^2$ \n",
    ", since $\\mu$ equals zero after the normalization"
   ]
  },
  {
   "cell_type": "markdown",
   "metadata": {},
   "source": [
    "We can easily see that if we take an Eigenvactor of a very large size, we will always maximize more and more, and so we have to add a constraint on the size of that Eigenvector - $||u||^2 = 1$"
   ]
  },
  {
   "cell_type": "markdown",
   "metadata": {},
   "source": [
    "## b"
   ]
  },
  {
   "cell_type": "markdown",
   "metadata": {},
   "source": [
    "The demand says we would like the covariance between the two terms to be zero. Note - it doesn't necessarily mean that they will be independent. So the mathematical demand is:"
   ]
  },
  {
   "cell_type": "markdown",
   "metadata": {},
   "source": [
    "$Cov(u_1^T X_i, u_2^T X_i) = \\frac{1}{m}\\sum_{i=1}^{m} u_1 X_i^T u_2^T X_i = \\frac{1}{m}u_1u_2^T\\sum_{i=1}^{m}X_i^TX_i = \\frac{1}{m}u_2^T(\\sum_{i=1}^{m}X_i^TX_i)u_1 $ = 0"
   ]
  },
  {
   "cell_type": "markdown",
   "metadata": {},
   "source": [
    "Since $u_1$ is an Eigenvector with an Eigenvalue $\\lambda_1 \\neq 0$, the above equation must satisfy $u_2^Tu_1 = 0$, prooving $u_1$ and $u_2$ are orthogonal"
   ]
  },
  {
   "cell_type": "markdown",
   "metadata": {},
   "source": [
    "# Q2 - True or False"
   ]
  },
  {
   "cell_type": "markdown",
   "metadata": {},
   "source": [
    "## 1"
   ]
  },
  {
   "cell_type": "code",
   "execution_count": null,
   "metadata": {},
   "outputs": [],
   "source": []
  },
  {
   "cell_type": "code",
   "execution_count": null,
   "metadata": {},
   "outputs": [],
   "source": []
  },
  {
   "cell_type": "code",
   "execution_count": null,
   "metadata": {},
   "outputs": [],
   "source": []
  },
  {
   "cell_type": "markdown",
   "metadata": {},
   "source": [
    "## 2"
   ]
  },
  {
   "cell_type": "code",
   "execution_count": null,
   "metadata": {},
   "outputs": [],
   "source": []
  },
  {
   "cell_type": "code",
   "execution_count": null,
   "metadata": {},
   "outputs": [],
   "source": []
  },
  {
   "cell_type": "code",
   "execution_count": null,
   "metadata": {},
   "outputs": [],
   "source": []
  },
  {
   "cell_type": "markdown",
   "metadata": {},
   "source": [
    "# Q3 - K-means"
   ]
  },
  {
   "cell_type": "code",
   "execution_count": 78,
   "metadata": {},
   "outputs": [],
   "source": [
    "import pandas as pd\n",
    "import numpy as np\n",
    "import matplotlib.pyplot as plt\n",
    "import random\n",
    "\n",
    "from IPython.core.interactiveshell import InteractiveShell\n",
    "InteractiveShell.ast_node_interactivity = \"all\"\n",
    "# import warnings\n",
    "# warnings.filterwarnings('ignore')"
   ]
  },
  {
   "cell_type": "markdown",
   "metadata": {},
   "source": [
    "## a"
   ]
  },
  {
   "cell_type": "code",
   "execution_count": 149,
   "metadata": {},
   "outputs": [],
   "source": [
    "data = pd.read_csv('data.csv')"
   ]
  },
  {
   "cell_type": "code",
   "execution_count": 150,
   "metadata": {},
   "outputs": [
    {
     "data": {
      "text/html": [
       "<div>\n",
       "<style scoped>\n",
       "    .dataframe tbody tr th:only-of-type {\n",
       "        vertical-align: middle;\n",
       "    }\n",
       "\n",
       "    .dataframe tbody tr th {\n",
       "        vertical-align: top;\n",
       "    }\n",
       "\n",
       "    .dataframe thead th {\n",
       "        text-align: right;\n",
       "    }\n",
       "</style>\n",
       "<table border=\"1\" class=\"dataframe\">\n",
       "  <thead>\n",
       "    <tr style=\"text-align: right;\">\n",
       "      <th></th>\n",
       "      <th>V1</th>\n",
       "      <th>V2</th>\n",
       "    </tr>\n",
       "  </thead>\n",
       "  <tbody>\n",
       "    <tr>\n",
       "      <th>0</th>\n",
       "      <td>2.072345</td>\n",
       "      <td>-3.241693</td>\n",
       "    </tr>\n",
       "    <tr>\n",
       "      <th>1</th>\n",
       "      <td>17.936710</td>\n",
       "      <td>15.784810</td>\n",
       "    </tr>\n",
       "    <tr>\n",
       "      <th>2</th>\n",
       "      <td>1.083576</td>\n",
       "      <td>7.319176</td>\n",
       "    </tr>\n",
       "    <tr>\n",
       "      <th>3</th>\n",
       "      <td>11.120670</td>\n",
       "      <td>14.406780</td>\n",
       "    </tr>\n",
       "    <tr>\n",
       "      <th>4</th>\n",
       "      <td>23.711550</td>\n",
       "      <td>2.557729</td>\n",
       "    </tr>\n",
       "  </tbody>\n",
       "</table>\n",
       "</div>"
      ],
      "text/plain": [
       "          V1         V2\n",
       "0   2.072345  -3.241693\n",
       "1  17.936710  15.784810\n",
       "2   1.083576   7.319176\n",
       "3  11.120670  14.406780\n",
       "4  23.711550   2.557729"
      ]
     },
     "execution_count": 150,
     "metadata": {},
     "output_type": "execute_result"
    }
   ],
   "source": [
    "data.head()"
   ]
  },
  {
   "cell_type": "markdown",
   "metadata": {},
   "source": [
    "## b"
   ]
  },
  {
   "cell_type": "code",
   "execution_count": 254,
   "metadata": {},
   "outputs": [],
   "source": [
    "def dist(x1,x2):\n",
    "    return np.sqrt(sum((x1[i]-x2[i])*(x1[i]-x2[i]) for i in range(len(x1))))"
   ]
  },
  {
   "cell_type": "markdown",
   "metadata": {},
   "source": [
    "## c"
   ]
  },
  {
   "cell_type": "code",
   "execution_count": 259,
   "metadata": {},
   "outputs": [],
   "source": [
    "def k_means(data,k):\n",
    "    # initialize centers randomly:\n",
    "    columns = data.columns.values\n",
    "    M = np.zeros((k,np.shape(data)[1])) # centers\n",
    "    for i,col in enumerate(columns):\n",
    "        for clust in range(k):\n",
    "            M[clust,i] = random.uniform(data[col].min(),data[col].max())\n",
    "    \n",
    "    M_old = np.zeros((k,np.shape(data)[1])) # centers\n",
    "    while(np.abs(np.max(M-M_old))>0): # convergence creterion\n",
    "        M_old = np.copy(M)\n",
    "        # calculate for each point the distance to the center of one of the k clusters:\n",
    "        cluster_array = np.zeros((np.shape(data)[0],k))\n",
    "        for i in range(np.shape(data)[0]):\n",
    "            for k_ind in range(k):\n",
    "                cluster_array[i,k_ind] = dist(data.loc[i,:].values,M_old[k_ind,:])\n",
    "        assigned_clusters = np.argmin(cluster_array,axis = 1)\n",
    "        # calculate new centers\n",
    "        for i,col in enumerate(columns):\n",
    "            for k_ind in range(k):\n",
    "                M[k_ind,i] = np.sum(data.iloc[assigned_clusters == k_ind,i])/np.sum(assigned_clusters == k_ind)\n",
    "#         print(M)\n",
    "#         print(np.sum(np.min(cluster_array,axis = 1)))\n",
    "  \n",
    "    # calculate the objective function (M_old = M at that point)\n",
    "    objective_function = np.sum(np.min(cluster_array,axis = 1))\n",
    "    return objective_function # The total variance\n",
    "    "
   ]
  },
  {
   "cell_type": "markdown",
   "metadata": {},
   "source": [
    "## d"
   ]
  },
  {
   "cell_type": "code",
   "execution_count": 256,
   "metadata": {},
   "outputs": [],
   "source": [
    "# Normalize the data\n",
    "from sklearn import preprocessing\n",
    "\n",
    "min_max_scaler = preprocessing.MinMaxScaler()\n",
    "np_scaled = min_max_scaler.fit_transform(data)\n",
    "data_normalized = pd.DataFrame(np_scaled, columns = columns)"
   ]
  },
  {
   "cell_type": "code",
   "execution_count": 257,
   "metadata": {},
   "outputs": [],
   "source": [
    "# run several times for each k"
   ]
  },
  {
   "cell_type": "code",
   "execution_count": 260,
   "metadata": {},
   "outputs": [
    {
     "name": "stdout",
     "output_type": "stream",
     "text": [
      "0 2\n",
      "1 2\n",
      "2 2\n",
      "3 2\n",
      "4 2\n",
      "0 3\n",
      "1 3\n",
      "2 3\n",
      "3 3\n",
      "4 3\n",
      "0 4\n",
      "1 4\n",
      "2 4\n",
      "3 4\n",
      "4 4\n",
      "0 5\n",
      "1 5\n",
      "2 5\n",
      "3 5\n",
      "4 5\n",
      "0 6\n",
      "1 6\n",
      "2 6\n",
      "3 6\n",
      "4 6\n",
      "0 7\n",
      "1 7\n",
      "2 7\n",
      "3 7\n",
      "4 7\n",
      "0 8\n",
      "1 8\n",
      "2 8\n",
      "3 8\n",
      "4 8\n",
      "0 9\n",
      "1 9\n",
      "2 9\n",
      "3 9\n",
      "4 9\n",
      "0 10\n",
      "1 10\n",
      "2 10\n",
      "3 10\n",
      "4 10\n"
     ]
    }
   ],
   "source": [
    "results = np.zeros((9,5))\n",
    "for k in range(2,11):\n",
    "    for i in range(5):\n",
    "        print(i,k)\n",
    "        results[k-2,i] = k_means(data_normalized,k)"
   ]
  },
  {
   "cell_type": "code",
   "execution_count": 261,
   "metadata": {},
   "outputs": [
    {
     "data": {
      "text/plain": [
       "array([[602.93478481, 602.93478481, 591.66050971, 591.66050971,\n",
       "        602.93478481],\n",
       "       [300.49732714, 300.49732714, 300.50173906, 300.4964235 ,\n",
       "        300.50173906],\n",
       "       [282.11983092, 279.13471694, 282.49580553, 279.26815609,\n",
       "        291.50643649],\n",
       "       [261.74073204, 268.22047585, 261.67645425, 261.65859548,\n",
       "        272.84573927],\n",
       "       [247.75061989, 251.94637228, 243.61409947, 686.74324604,\n",
       "        243.5792032 ],\n",
       "       [229.91841244, 238.13369097, 227.14306553, 226.31580582,\n",
       "        236.41686585],\n",
       "       [222.90770256, 221.99996964, 213.26467145, 216.70268909,\n",
       "        361.92422104],\n",
       "       [205.14804556, 217.18486599, 208.88664859, 199.29165579,\n",
       "        535.16178401],\n",
       "       [446.03589555, 200.71578656, 595.29055133, 440.8131931 ,\n",
       "        525.4559245 ]])"
      ]
     },
     "execution_count": 261,
     "metadata": {},
     "output_type": "execute_result"
    }
   ],
   "source": [
    "results"
   ]
  },
  {
   "cell_type": "code",
   "execution_count": 262,
   "metadata": {},
   "outputs": [
    {
     "data": {
      "text/plain": [
       "array([591.66050971, 300.4964235 , 279.13471694, 261.65859548,\n",
       "       243.5792032 , 226.31580582, 213.26467145, 199.29165579,\n",
       "       200.71578656])"
      ]
     },
     "execution_count": 262,
     "metadata": {},
     "output_type": "execute_result"
    }
   ],
   "source": [
    "np.min(results, axis = 1)"
   ]
  },
  {
   "cell_type": "code",
   "execution_count": null,
   "metadata": {},
   "outputs": [],
   "source": [
    "# plot"
   ]
  },
  {
   "cell_type": "code",
   "execution_count": 267,
   "metadata": {},
   "outputs": [
    {
     "data": {
      "image/png": "[encoded data removed]",
      "text/plain": [
       "<matplotlib.figure.Figure at 0x115178940>"
      ]
     },
     "metadata": {},
     "output_type": "display_data"
    }
   ],
   "source": [
    "plt.plot(range(2,11),np.min(results, axis = 1))\n",
    "plt.show();"
   ]
  },
  {
   "cell_type": "code",
   "execution_count": null,
   "metadata": {},
   "outputs": [],
   "source": []
  },
  {
   "cell_type": "code",
   "execution_count": null,
   "metadata": {},
   "outputs": [],
   "source": []
  },
  {
   "cell_type": "markdown",
   "metadata": {},
   "source": [
    "# TO DELETE"
   ]
  },
  {
   "cell_type": "markdown",
   "metadata": {},
   "source": [
    "We solve the above maximization problem by defining a lagragian, and take the derivative by each $u_j$:"
   ]
  },
  {
   "cell_type": "markdown",
   "metadata": {},
   "source": [
    "$ L(u,\\lambda) = \\frac{1}{m}\\sum_{i=1}^{m}(\\sum_{j=1}^{d}X_{ij}u_j)^2 - \\lambda((\\sum_{j=1}^{d}u_j)^2 - 1)$"
   ]
  },
  {
   "cell_type": "markdown",
   "metadata": {},
   "source": [
    "For $u_1\\space$: $\\frac{\\partial L}{\\partial u_1} = \\frac{2}{m}\\sum_{i=1}^{m}(\\sum_{j=1}^{d}X_{ij}u_j)X_{i1} - 2\\lambda u_1 = 0$"
   ]
  },
  {
   "cell_type": "markdown",
   "metadata": {},
   "source": [
    "and we get : "
   ]
  },
  {
   "cell_type": "markdown",
   "metadata": {},
   "source": [
    "$(\\frac{1}{m}\\sum_{i=1}^{m}X_{ij}X_{i1}) \\space\\sum_{j=1}^{d}u_j = \\lambda u_1$"
   ]
  },
  {
   "cell_type": "markdown",
   "metadata": {},
   "source": [
    "The first term on the left is the covariance matrix of attribute $X_1$ with all attributes or basicly the complete covariance matrix."
   ]
  },
  {
   "cell_type": "markdown",
   "metadata": {},
   "source": [
    "$\\sum_{j=1}^{d}cov(X_1,X_j) \\space u_j = \\lambda u_1$"
   ]
  },
  {
   "cell_type": "markdown",
   "metadata": {},
   "source": [
    "We showed that $u_1$ must be an Eigenvector and this Eigenvector maximizes the variance. All other numbers are the following Eigenvectors. "
   ]
  },
  {
   "cell_type": "markdown",
   "metadata": {},
   "source": [
    "The variance of the projected points along the Eigenvector $u_1$: "
   ]
  },
  {
   "cell_type": "markdown",
   "metadata": {},
   "source": [
    "$\\space \\frac{1}{m}\\sum_{i=1}^{m}(\\sum_{j=1}^{d}X_{ij}u_j)^2$"
   ]
  }
 ],
 "metadata": {
  "kernelspec": {
   "display_name": "Python 3",
   "language": "python",
   "name": "python3"
  },
  "language_info": {
   "codemirror_mode": {
    "name": "ipython",
    "version": 3
   },
   "file_extension": ".py",
   "mimetype": "text/x-python",
   "name": "python",
   "nbconvert_exporter": "python",
   "pygments_lexer": "ipython3",
   "version": "3.6.4"
  }
 },
 "nbformat": 4,
 "nbformat_minor": 2
}
